{
 "cells": [
  {
   "cell_type": "code",
   "execution_count": 1,
   "metadata": {},
   "outputs": [
    {
     "name": "stderr",
     "output_type": "stream",
     "text": [
      "Using TensorFlow backend.\n"
     ]
    }
   ],
   "source": [
    "import tensorflow as tf\n",
    "import random\n",
    "import numpy as np\n",
    "import matplotlib.pyplot as plt\n",
    "%matplotlib inline\n",
    "from tensorflow.examples.tutorials.mnist import input_data\n",
    "from IPython import display\n",
    "from keras.utils import np_utils\n",
    "from tqdm import tqdm\n",
    "import csv\n",
    "import pandas as pd\n",
    "import numpy as np\n",
    "from keras.utils import np_utils\n",
    "from IPython.display import display, HTML\n",
    "np.random.seed(10)"
   ]
  },
  {
   "cell_type": "code",
   "execution_count": 8,
   "metadata": {},
   "outputs": [
    {
     "data": {
      "text/html": [
       "<div>\n",
       "<style scoped>\n",
       "    .dataframe tbody tr th:only-of-type {\n",
       "        vertical-align: middle;\n",
       "    }\n",
       "\n",
       "    .dataframe tbody tr th {\n",
       "        vertical-align: top;\n",
       "    }\n",
       "\n",
       "    .dataframe thead th {\n",
       "        text-align: right;\n",
       "    }\n",
       "</style>\n",
       "<table border=\"1\" class=\"dataframe\">\n",
       "  <thead>\n",
       "    <tr style=\"text-align: right;\">\n",
       "      <th></th>\n",
       "      <th>label</th>\n",
       "      <th>pixel0</th>\n",
       "      <th>pixel1</th>\n",
       "      <th>pixel2</th>\n",
       "      <th>pixel3</th>\n",
       "      <th>pixel4</th>\n",
       "      <th>pixel5</th>\n",
       "      <th>pixel6</th>\n",
       "      <th>pixel7</th>\n",
       "      <th>pixel8</th>\n",
       "      <th>...</th>\n",
       "      <th>pixel774</th>\n",
       "      <th>pixel775</th>\n",
       "      <th>pixel776</th>\n",
       "      <th>pixel777</th>\n",
       "      <th>pixel778</th>\n",
       "      <th>pixel779</th>\n",
       "      <th>pixel780</th>\n",
       "      <th>pixel781</th>\n",
       "      <th>pixel782</th>\n",
       "      <th>pixel783</th>\n",
       "    </tr>\n",
       "  </thead>\n",
       "  <tbody>\n",
       "    <tr>\n",
       "      <th>0</th>\n",
       "      <td>1</td>\n",
       "      <td>0</td>\n",
       "      <td>0</td>\n",
       "      <td>0</td>\n",
       "      <td>0</td>\n",
       "      <td>0</td>\n",
       "      <td>0</td>\n",
       "      <td>0</td>\n",
       "      <td>0</td>\n",
       "      <td>0</td>\n",
       "      <td>...</td>\n",
       "      <td>0</td>\n",
       "      <td>0</td>\n",
       "      <td>0</td>\n",
       "      <td>0</td>\n",
       "      <td>0</td>\n",
       "      <td>0</td>\n",
       "      <td>0</td>\n",
       "      <td>0</td>\n",
       "      <td>0</td>\n",
       "      <td>0</td>\n",
       "    </tr>\n",
       "    <tr>\n",
       "      <th>1</th>\n",
       "      <td>0</td>\n",
       "      <td>0</td>\n",
       "      <td>0</td>\n",
       "      <td>0</td>\n",
       "      <td>0</td>\n",
       "      <td>0</td>\n",
       "      <td>0</td>\n",
       "      <td>0</td>\n",
       "      <td>0</td>\n",
       "      <td>0</td>\n",
       "      <td>...</td>\n",
       "      <td>0</td>\n",
       "      <td>0</td>\n",
       "      <td>0</td>\n",
       "      <td>0</td>\n",
       "      <td>0</td>\n",
       "      <td>0</td>\n",
       "      <td>0</td>\n",
       "      <td>0</td>\n",
       "      <td>0</td>\n",
       "      <td>0</td>\n",
       "    </tr>\n",
       "    <tr>\n",
       "      <th>2</th>\n",
       "      <td>1</td>\n",
       "      <td>0</td>\n",
       "      <td>0</td>\n",
       "      <td>0</td>\n",
       "      <td>0</td>\n",
       "      <td>0</td>\n",
       "      <td>0</td>\n",
       "      <td>0</td>\n",
       "      <td>0</td>\n",
       "      <td>0</td>\n",
       "      <td>...</td>\n",
       "      <td>0</td>\n",
       "      <td>0</td>\n",
       "      <td>0</td>\n",
       "      <td>0</td>\n",
       "      <td>0</td>\n",
       "      <td>0</td>\n",
       "      <td>0</td>\n",
       "      <td>0</td>\n",
       "      <td>0</td>\n",
       "      <td>0</td>\n",
       "    </tr>\n",
       "    <tr>\n",
       "      <th>3</th>\n",
       "      <td>4</td>\n",
       "      <td>0</td>\n",
       "      <td>0</td>\n",
       "      <td>0</td>\n",
       "      <td>0</td>\n",
       "      <td>0</td>\n",
       "      <td>0</td>\n",
       "      <td>0</td>\n",
       "      <td>0</td>\n",
       "      <td>0</td>\n",
       "      <td>...</td>\n",
       "      <td>0</td>\n",
       "      <td>0</td>\n",
       "      <td>0</td>\n",
       "      <td>0</td>\n",
       "      <td>0</td>\n",
       "      <td>0</td>\n",
       "      <td>0</td>\n",
       "      <td>0</td>\n",
       "      <td>0</td>\n",
       "      <td>0</td>\n",
       "    </tr>\n",
       "    <tr>\n",
       "      <th>4</th>\n",
       "      <td>0</td>\n",
       "      <td>0</td>\n",
       "      <td>0</td>\n",
       "      <td>0</td>\n",
       "      <td>0</td>\n",
       "      <td>0</td>\n",
       "      <td>0</td>\n",
       "      <td>0</td>\n",
       "      <td>0</td>\n",
       "      <td>0</td>\n",
       "      <td>...</td>\n",
       "      <td>0</td>\n",
       "      <td>0</td>\n",
       "      <td>0</td>\n",
       "      <td>0</td>\n",
       "      <td>0</td>\n",
       "      <td>0</td>\n",
       "      <td>0</td>\n",
       "      <td>0</td>\n",
       "      <td>0</td>\n",
       "      <td>0</td>\n",
       "    </tr>\n",
       "  </tbody>\n",
       "</table>\n",
       "<p>5 rows × 785 columns</p>\n",
       "</div>"
      ],
      "text/plain": [
       "   label  pixel0  pixel1  pixel2  pixel3  pixel4  pixel5  pixel6  pixel7  \\\n",
       "0      1       0       0       0       0       0       0       0       0   \n",
       "1      0       0       0       0       0       0       0       0       0   \n",
       "2      1       0       0       0       0       0       0       0       0   \n",
       "3      4       0       0       0       0       0       0       0       0   \n",
       "4      0       0       0       0       0       0       0       0       0   \n",
       "\n",
       "   pixel8    ...     pixel774  pixel775  pixel776  pixel777  pixel778  \\\n",
       "0       0    ...            0         0         0         0         0   \n",
       "1       0    ...            0         0         0         0         0   \n",
       "2       0    ...            0         0         0         0         0   \n",
       "3       0    ...            0         0         0         0         0   \n",
       "4       0    ...            0         0         0         0         0   \n",
       "\n",
       "   pixel779  pixel780  pixel781  pixel782  pixel783  \n",
       "0         0         0         0         0         0  \n",
       "1         0         0         0         0         0  \n",
       "2         0         0         0         0         0  \n",
       "3         0         0         0         0         0  \n",
       "4         0         0         0         0         0  \n",
       "\n",
       "[5 rows x 785 columns]"
      ]
     },
     "execution_count": 8,
     "metadata": {},
     "output_type": "execute_result"
    }
   ],
   "source": [
    "train= pd.read_csv('Digi_train.csv')\n",
    "train.head()"
   ]
  },
  {
   "cell_type": "code",
   "execution_count": 10,
   "metadata": {},
   "outputs": [
    {
     "data": {
      "text/html": [
       "<div>\n",
       "<style scoped>\n",
       "    .dataframe tbody tr th:only-of-type {\n",
       "        vertical-align: middle;\n",
       "    }\n",
       "\n",
       "    .dataframe tbody tr th {\n",
       "        vertical-align: top;\n",
       "    }\n",
       "\n",
       "    .dataframe thead th {\n",
       "        text-align: right;\n",
       "    }\n",
       "</style>\n",
       "<table border=\"1\" class=\"dataframe\">\n",
       "  <thead>\n",
       "    <tr style=\"text-align: right;\">\n",
       "      <th></th>\n",
       "      <th>pixel0</th>\n",
       "      <th>pixel1</th>\n",
       "      <th>pixel2</th>\n",
       "      <th>pixel3</th>\n",
       "      <th>pixel4</th>\n",
       "      <th>pixel5</th>\n",
       "      <th>pixel6</th>\n",
       "      <th>pixel7</th>\n",
       "      <th>pixel8</th>\n",
       "      <th>pixel9</th>\n",
       "      <th>...</th>\n",
       "      <th>pixel774</th>\n",
       "      <th>pixel775</th>\n",
       "      <th>pixel776</th>\n",
       "      <th>pixel777</th>\n",
       "      <th>pixel778</th>\n",
       "      <th>pixel779</th>\n",
       "      <th>pixel780</th>\n",
       "      <th>pixel781</th>\n",
       "      <th>pixel782</th>\n",
       "      <th>pixel783</th>\n",
       "    </tr>\n",
       "  </thead>\n",
       "  <tbody>\n",
       "    <tr>\n",
       "      <th>0</th>\n",
       "      <td>0</td>\n",
       "      <td>0</td>\n",
       "      <td>0</td>\n",
       "      <td>0</td>\n",
       "      <td>0</td>\n",
       "      <td>0</td>\n",
       "      <td>0</td>\n",
       "      <td>0</td>\n",
       "      <td>0</td>\n",
       "      <td>0</td>\n",
       "      <td>...</td>\n",
       "      <td>0</td>\n",
       "      <td>0</td>\n",
       "      <td>0</td>\n",
       "      <td>0</td>\n",
       "      <td>0</td>\n",
       "      <td>0</td>\n",
       "      <td>0</td>\n",
       "      <td>0</td>\n",
       "      <td>0</td>\n",
       "      <td>0</td>\n",
       "    </tr>\n",
       "    <tr>\n",
       "      <th>1</th>\n",
       "      <td>0</td>\n",
       "      <td>0</td>\n",
       "      <td>0</td>\n",
       "      <td>0</td>\n",
       "      <td>0</td>\n",
       "      <td>0</td>\n",
       "      <td>0</td>\n",
       "      <td>0</td>\n",
       "      <td>0</td>\n",
       "      <td>0</td>\n",
       "      <td>...</td>\n",
       "      <td>0</td>\n",
       "      <td>0</td>\n",
       "      <td>0</td>\n",
       "      <td>0</td>\n",
       "      <td>0</td>\n",
       "      <td>0</td>\n",
       "      <td>0</td>\n",
       "      <td>0</td>\n",
       "      <td>0</td>\n",
       "      <td>0</td>\n",
       "    </tr>\n",
       "    <tr>\n",
       "      <th>2</th>\n",
       "      <td>0</td>\n",
       "      <td>0</td>\n",
       "      <td>0</td>\n",
       "      <td>0</td>\n",
       "      <td>0</td>\n",
       "      <td>0</td>\n",
       "      <td>0</td>\n",
       "      <td>0</td>\n",
       "      <td>0</td>\n",
       "      <td>0</td>\n",
       "      <td>...</td>\n",
       "      <td>0</td>\n",
       "      <td>0</td>\n",
       "      <td>0</td>\n",
       "      <td>0</td>\n",
       "      <td>0</td>\n",
       "      <td>0</td>\n",
       "      <td>0</td>\n",
       "      <td>0</td>\n",
       "      <td>0</td>\n",
       "      <td>0</td>\n",
       "    </tr>\n",
       "    <tr>\n",
       "      <th>3</th>\n",
       "      <td>0</td>\n",
       "      <td>0</td>\n",
       "      <td>0</td>\n",
       "      <td>0</td>\n",
       "      <td>0</td>\n",
       "      <td>0</td>\n",
       "      <td>0</td>\n",
       "      <td>0</td>\n",
       "      <td>0</td>\n",
       "      <td>0</td>\n",
       "      <td>...</td>\n",
       "      <td>0</td>\n",
       "      <td>0</td>\n",
       "      <td>0</td>\n",
       "      <td>0</td>\n",
       "      <td>0</td>\n",
       "      <td>0</td>\n",
       "      <td>0</td>\n",
       "      <td>0</td>\n",
       "      <td>0</td>\n",
       "      <td>0</td>\n",
       "    </tr>\n",
       "    <tr>\n",
       "      <th>4</th>\n",
       "      <td>0</td>\n",
       "      <td>0</td>\n",
       "      <td>0</td>\n",
       "      <td>0</td>\n",
       "      <td>0</td>\n",
       "      <td>0</td>\n",
       "      <td>0</td>\n",
       "      <td>0</td>\n",
       "      <td>0</td>\n",
       "      <td>0</td>\n",
       "      <td>...</td>\n",
       "      <td>0</td>\n",
       "      <td>0</td>\n",
       "      <td>0</td>\n",
       "      <td>0</td>\n",
       "      <td>0</td>\n",
       "      <td>0</td>\n",
       "      <td>0</td>\n",
       "      <td>0</td>\n",
       "      <td>0</td>\n",
       "      <td>0</td>\n",
       "    </tr>\n",
       "  </tbody>\n",
       "</table>\n",
       "<p>5 rows × 784 columns</p>\n",
       "</div>"
      ],
      "text/plain": [
       "   pixel0  pixel1  pixel2  pixel3  pixel4  pixel5  pixel6  pixel7  pixel8  \\\n",
       "0       0       0       0       0       0       0       0       0       0   \n",
       "1       0       0       0       0       0       0       0       0       0   \n",
       "2       0       0       0       0       0       0       0       0       0   \n",
       "3       0       0       0       0       0       0       0       0       0   \n",
       "4       0       0       0       0       0       0       0       0       0   \n",
       "\n",
       "   pixel9    ...     pixel774  pixel775  pixel776  pixel777  pixel778  \\\n",
       "0       0    ...            0         0         0         0         0   \n",
       "1       0    ...            0         0         0         0         0   \n",
       "2       0    ...            0         0         0         0         0   \n",
       "3       0    ...            0         0         0         0         0   \n",
       "4       0    ...            0         0         0         0         0   \n",
       "\n",
       "   pixel779  pixel780  pixel781  pixel782  pixel783  \n",
       "0         0         0         0         0         0  \n",
       "1         0         0         0         0         0  \n",
       "2         0         0         0         0         0  \n",
       "3         0         0         0         0         0  \n",
       "4         0         0         0         0         0  \n",
       "\n",
       "[5 rows x 784 columns]"
      ]
     },
     "execution_count": 10,
     "metadata": {},
     "output_type": "execute_result"
    }
   ],
   "source": [
    "target = train.pop(item='label')\n",
    "\n",
    "from keras.utils import to_categorical\n",
    "target = to_categorical(target)\n",
    "\n",
    "train.head()"
   ]
  },
  {
   "cell_type": "code",
   "execution_count": 11,
   "metadata": {},
   "outputs": [
    {
     "name": "stdout",
     "output_type": "stream",
     "text": [
      "<class 'pandas.core.frame.DataFrame'>\n",
      "RangeIndex: 42000 entries, 0 to 41999\n",
      "Columns: 784 entries, pixel0 to pixel783\n",
      "dtypes: int64(784)\n",
      "memory usage: 251.2 MB\n"
     ]
    }
   ],
   "source": [
    "train.info()"
   ]
  },
  {
   "cell_type": "code",
   "execution_count": 12,
   "metadata": {},
   "outputs": [
    {
     "data": {
      "text/plain": [
       "(42000, 784)"
      ]
     },
     "execution_count": 12,
     "metadata": {},
     "output_type": "execute_result"
    }
   ],
   "source": [
    "train.shape"
   ]
  },
  {
   "cell_type": "code",
   "execution_count": 13,
   "metadata": {},
   "outputs": [],
   "source": [
    "train=train.values\n",
    "train=train.reshape((42000, 28 ,28 ,1))\n",
    "train=train.astype('float32')/255"
   ]
  },
  {
   "cell_type": "code",
   "execution_count": 66,
   "metadata": {},
   "outputs": [
    {
     "data": {
      "text/plain": [
       "(42000, 28, 28, 1)"
      ]
     },
     "execution_count": 66,
     "metadata": {},
     "output_type": "execute_result"
    }
   ],
   "source": [
    "train.shape"
   ]
  },
  {
   "cell_type": "code",
   "execution_count": 67,
   "metadata": {},
   "outputs": [],
   "source": [
    "import matplotlib.pyplot as plt\n",
    "def plot_image(image):\n",
    "    fig = plt.gcf()\n",
    "    fig.set_size_inches(2,2)\n",
    "    plt.imshow(image, cmap='binary')\n",
    "    plt.show()"
   ]
  },
  {
   "cell_type": "code",
   "execution_count": 68,
   "metadata": {},
   "outputs": [
    {
     "data": {
      "image/png": "[encoded data removed]",
      "text/plain": [
       "<matplotlib.figure.Figure at 0x19b15a5dbe0>"
      ]
     },
     "metadata": {},
     "output_type": "display_data"
    },
    {
     "data": {
      "text/plain": [
       "array([0., 0., 0., 0., 0., 0., 0., 1., 0., 0.])"
      ]
     },
     "execution_count": 68,
     "metadata": {},
     "output_type": "execute_result"
    }
   ],
   "source": [
    "# 一維二維轉換\n",
    "plot_image(train[18].reshape(28,28))\n",
    "target[18]"
   ]
  },
  {
   "cell_type": "code",
   "execution_count": 69,
   "metadata": {},
   "outputs": [
    {
     "data": {
      "image/png": "[encoded data removed]",
      "text/plain": [
       "<matplotlib.figure.Figure at 0x19b15a5dac8>"
      ]
     },
     "metadata": {},
     "output_type": "display_data"
    }
   ],
   "source": [
    "import matplotlib.pyplot as plt\n",
    "\n",
    "plt.imshow(train[18].reshape(28,28), cmap=plt.cm.binary)\n",
    "plt.show()"
   ]
  },
  {
   "cell_type": "code",
   "execution_count": 70,
   "metadata": {},
   "outputs": [],
   "source": [
    "from sklearn.model_selection import train_test_split\n",
    "x, x_val, y, y_val = train_test_split(train, target, test_size=0.2)"
   ]
  },
  {
   "cell_type": "code",
   "execution_count": 71,
   "metadata": {},
   "outputs": [],
   "source": [
    "from keras.models import Sequential, Model\n",
    "from keras.layers import *\n",
    "from keras.layers.advanced_activations import LeakyReLU\n",
    "from keras.activations import relu\n",
    "from keras.initializers import RandomNormal\n",
    "from keras.applications import *\n",
    "import keras.backend as K\n",
    "from tensorflow.contrib.distributions import Beta\n",
    "import tensorflow as tf\n",
    "from keras.optimizers import Adam\n",
    "from keras import models, layers\n",
    "from keras.utils import np_utils"
   ]
  },
  {
   "cell_type": "code",
   "execution_count": 72,
   "metadata": {},
   "outputs": [],
   "source": [
    "model = models.Sequential()\n",
    "model.add(layers.Conv2D(32, (3, 3), activation='relu', input_shape=(28, 28, 1)))\n",
    "model.add(layers.MaxPooling2D((2, 2)))\n",
    "\n",
    "model.add(layers.Conv2D(64, (3, 3), activation='relu'))\n",
    "model.add(layers.MaxPooling2D((2, 2)))\n",
    "\n",
    "model.add(layers.Conv2D(64, (3, 3), activation='relu'))\n",
    "model.add(layers.Flatten())\n",
    "model.add(Dropout(0.25))\n",
    "model.add(layers.Dense(64, activation='relu'))\n",
    "model.add(layers.Dense(10, activation='softmax'))\n",
    "\n",
    "model.compile(loss='categorical_crossentropy',optimizer='adam',metrics=['accuracy']) \n",
    "# model.compile(loss='binary_crossentropy',optimizer='rmsprop',metrics=['accuracy']) \n",
    "# model.compile(loss='meansquarederror',optimizer='rmsprop',metrics=['accuracy'])   # 均方差\n",
    "# model.compile(loss='connectionist temporal classification',optimizer='rmsprop',metrics=['accuracy'])    # 連結時序分類"
   ]
  },
  {
   "cell_type": "code",
   "execution_count": 73,
   "metadata": {},
   "outputs": [
    {
     "name": "stdout",
     "output_type": "stream",
     "text": [
      "Train on 33600 samples, validate on 8400 samples\n",
      "Epoch 1/5\n",
      "33600/33600 [==============================] - ETA: 53s - loss: 2.3185 - acc: 0.07 - ETA: 14s - loss: 2.2808 - acc: 0.15 - ETA: 8s - loss: 2.2366 - acc: 0.2586 - ETA: 6s - loss: 2.1734 - acc: 0.307 - ETA: 5s - loss: 2.0884 - acc: 0.365 - ETA: 4s - loss: 1.9849 - acc: 0.405 - ETA: 4s - loss: 1.8649 - acc: 0.444 - ETA: 3s - loss: 1.7468 - acc: 0.478 - ETA: 3s - loss: 1.6354 - acc: 0.510 - ETA: 3s - loss: 1.5380 - acc: 0.537 - ETA: 2s - loss: 1.4546 - acc: 0.561 - ETA: 2s - loss: 1.3737 - acc: 0.586 - ETA: 2s - loss: 1.3073 - acc: 0.606 - ETA: 2s - loss: 1.2496 - acc: 0.622 - ETA: 2s - loss: 1.1951 - acc: 0.639 - ETA: 1s - loss: 1.1448 - acc: 0.654 - ETA: 1s - loss: 1.1020 - acc: 0.667 - ETA: 1s - loss: 1.0599 - acc: 0.680 - ETA: 1s - loss: 1.0190 - acc: 0.692 - ETA: 1s - loss: 0.9842 - acc: 0.702 - ETA: 1s - loss: 0.9505 - acc: 0.712 - ETA: 1s - loss: 0.9204 - acc: 0.721 - ETA: 1s - loss: 0.8926 - acc: 0.730 - ETA: 1s - loss: 0.8659 - acc: 0.737 - ETA: 0s - loss: 0.8425 - acc: 0.745 - ETA: 0s - loss: 0.8183 - acc: 0.752 - ETA: 0s - loss: 0.7965 - acc: 0.758 - ETA: 0s - loss: 0.7750 - acc: 0.765 - ETA: 0s - loss: 0.7547 - acc: 0.771 - ETA: 0s - loss: 0.7365 - acc: 0.777 - ETA: 0s - loss: 0.7181 - acc: 0.782 - ETA: 0s - loss: 0.7030 - acc: 0.787 - ETA: 0s - loss: 0.6898 - acc: 0.791 - ETA: 0s - loss: 0.6744 - acc: 0.795 - ETA: 0s - loss: 0.6612 - acc: 0.799 - ETA: 0s - loss: 0.6478 - acc: 0.803 - ETA: 0s - loss: 0.6351 - acc: 0.807 - 3s 83us/step - loss: 0.6234 - acc: 0.8112 - val_loss: 0.1394 - val_acc: 0.9579\n",
      "\n",
      "Epoch 00001: val_loss improved from inf to 0.13940, saving model to 0925_digi.h5\n",
      "Epoch 2/5\n",
      "33600/33600 [==============================] - ETA: 1s - loss: 0.1614 - acc: 0.956 - ETA: 1s - loss: 0.1769 - acc: 0.947 - ETA: 1s - loss: 0.1876 - acc: 0.946 - ETA: 1s - loss: 0.1847 - acc: 0.945 - ETA: 1s - loss: 0.1740 - acc: 0.946 - ETA: 1s - loss: 0.1696 - acc: 0.948 - ETA: 1s - loss: 0.1651 - acc: 0.950 - ETA: 1s - loss: 0.1666 - acc: 0.949 - ETA: 1s - loss: 0.1691 - acc: 0.948 - ETA: 1s - loss: 0.1653 - acc: 0.949 - ETA: 1s - loss: 0.1622 - acc: 0.950 - ETA: 1s - loss: 0.1607 - acc: 0.949 - ETA: 1s - loss: 0.1583 - acc: 0.950 - ETA: 1s - loss: 0.1557 - acc: 0.951 - ETA: 1s - loss: 0.1539 - acc: 0.952 - ETA: 1s - loss: 0.1541 - acc: 0.951 - ETA: 1s - loss: 0.1528 - acc: 0.952 - ETA: 1s - loss: 0.1523 - acc: 0.952 - ETA: 1s - loss: 0.1517 - acc: 0.953 - ETA: 0s - loss: 0.1507 - acc: 0.953 - ETA: 0s - loss: 0.1495 - acc: 0.953 - ETA: 0s - loss: 0.1479 - acc: 0.954 - ETA: 0s - loss: 0.1466 - acc: 0.954 - ETA: 0s - loss: 0.1456 - acc: 0.954 - ETA: 0s - loss: 0.1428 - acc: 0.955 - ETA: 0s - loss: 0.1414 - acc: 0.955 - ETA: 0s - loss: 0.1399 - acc: 0.956 - ETA: 0s - loss: 0.1383 - acc: 0.957 - ETA: 0s - loss: 0.1375 - acc: 0.957 - ETA: 0s - loss: 0.1366 - acc: 0.957 - ETA: 0s - loss: 0.1362 - acc: 0.957 - ETA: 0s - loss: 0.1350 - acc: 0.958 - ETA: 0s - loss: 0.1340 - acc: 0.958 - ETA: 0s - loss: 0.1327 - acc: 0.958 - ETA: 0s - loss: 0.1315 - acc: 0.959 - ETA: 0s - loss: 0.1304 - acc: 0.959 - ETA: 0s - loss: 0.1301 - acc: 0.959 - 2s 66us/step - loss: 0.1294 - acc: 0.9596 - val_loss: 0.0760 - val_acc: 0.9758\n",
      "\n",
      "Epoch 00002: val_loss improved from 0.13940 to 0.07599, saving model to 0925_digi.h5\n",
      "Epoch 3/5\n",
      "33600/33600 [==============================] - ETA: 2s - loss: 0.0897 - acc: 0.980 - ETA: 2s - loss: 0.0883 - acc: 0.971 - ETA: 2s - loss: 0.0795 - acc: 0.975 - ETA: 1s - loss: 0.0849 - acc: 0.972 - ETA: 1s - loss: 0.0877 - acc: 0.972 - ETA: 1s - loss: 0.0883 - acc: 0.971 - ETA: 1s - loss: 0.0916 - acc: 0.971 - ETA: 1s - loss: 0.0891 - acc: 0.972 - ETA: 1s - loss: 0.0900 - acc: 0.971 - ETA: 1s - loss: 0.0896 - acc: 0.971 - ETA: 1s - loss: 0.0886 - acc: 0.971 - ETA: 1s - loss: 0.0908 - acc: 0.972 - ETA: 1s - loss: 0.0912 - acc: 0.971 - ETA: 1s - loss: 0.0925 - acc: 0.971 - ETA: 1s - loss: 0.0907 - acc: 0.971 - ETA: 1s - loss: 0.0901 - acc: 0.972 - ETA: 1s - loss: 0.0892 - acc: 0.972 - ETA: 1s - loss: 0.0891 - acc: 0.972 - ETA: 1s - loss: 0.0876 - acc: 0.972 - ETA: 1s - loss: 0.0872 - acc: 0.972 - ETA: 0s - loss: 0.0877 - acc: 0.972 - ETA: 0s - loss: 0.0883 - acc: 0.971 - ETA: 0s - loss: 0.0877 - acc: 0.972 - ETA: 0s - loss: 0.0876 - acc: 0.972 - ETA: 0s - loss: 0.0872 - acc: 0.972 - ETA: 0s - loss: 0.0875 - acc: 0.972 - ETA: 0s - loss: 0.0865 - acc: 0.972 - ETA: 0s - loss: 0.0869 - acc: 0.972 - ETA: 0s - loss: 0.0861 - acc: 0.972 - ETA: 0s - loss: 0.0860 - acc: 0.972 - ETA: 0s - loss: 0.0855 - acc: 0.973 - ETA: 0s - loss: 0.0853 - acc: 0.973 - ETA: 0s - loss: 0.0851 - acc: 0.973 - ETA: 0s - loss: 0.0852 - acc: 0.973 - ETA: 0s - loss: 0.0847 - acc: 0.973 - ETA: 0s - loss: 0.0846 - acc: 0.973 - ETA: 0s - loss: 0.0841 - acc: 0.973 - 2s 67us/step - loss: 0.0840 - acc: 0.9738 - val_loss: 0.0610 - val_acc: 0.9805\n",
      "\n",
      "Epoch 00003: val_loss improved from 0.07599 to 0.06100, saving model to 0925_digi.h5\n",
      "Epoch 4/5\n",
      "33600/33600 [==============================] - ETA: 2s - loss: 0.0601 - acc: 0.983 - ETA: 2s - loss: 0.0693 - acc: 0.975 - ETA: 1s - loss: 0.0662 - acc: 0.977 - ETA: 1s - loss: 0.0650 - acc: 0.978 - ETA: 1s - loss: 0.0669 - acc: 0.977 - ETA: 1s - loss: 0.0704 - acc: 0.976 - ETA: 1s - loss: 0.0695 - acc: 0.977 - ETA: 1s - loss: 0.0686 - acc: 0.977 - ETA: 1s - loss: 0.0665 - acc: 0.978 - ETA: 1s - loss: 0.0677 - acc: 0.978 - ETA: 1s - loss: 0.0683 - acc: 0.978 - ETA: 1s - loss: 0.0692 - acc: 0.978 - ETA: 1s - loss: 0.0685 - acc: 0.979 - ETA: 1s - loss: 0.0684 - acc: 0.979 - ETA: 1s - loss: 0.0678 - acc: 0.979 - ETA: 1s - loss: 0.0683 - acc: 0.979 - ETA: 1s - loss: 0.0686 - acc: 0.978 - ETA: 1s - loss: 0.0676 - acc: 0.979 - ETA: 1s - loss: 0.0668 - acc: 0.979 - ETA: 0s - loss: 0.0665 - acc: 0.979 - ETA: 0s - loss: 0.0667 - acc: 0.979 - ETA: 0s - loss: 0.0665 - acc: 0.979 - ETA: 0s - loss: 0.0662 - acc: 0.979 - ETA: 0s - loss: 0.0654 - acc: 0.979 - ETA: 0s - loss: 0.0655 - acc: 0.979 - ETA: 0s - loss: 0.0657 - acc: 0.979 - ETA: 0s - loss: 0.0659 - acc: 0.979 - ETA: 0s - loss: 0.0660 - acc: 0.979 - ETA: 0s - loss: 0.0655 - acc: 0.979 - ETA: 0s - loss: 0.0654 - acc: 0.979 - ETA: 0s - loss: 0.0650 - acc: 0.979 - ETA: 0s - loss: 0.0647 - acc: 0.979 - ETA: 0s - loss: 0.0641 - acc: 0.979 - ETA: 0s - loss: 0.0639 - acc: 0.980 - ETA: 0s - loss: 0.0639 - acc: 0.980 - ETA: 0s - loss: 0.0633 - acc: 0.980 - ETA: 0s - loss: 0.0636 - acc: 0.980 - 2s 67us/step - loss: 0.0638 - acc: 0.9802 - val_loss: 0.0464 - val_acc: 0.9829\n",
      "\n",
      "Epoch 00004: val_loss improved from 0.06100 to 0.04635, saving model to 0925_digi.h5\n",
      "Epoch 5/5\n",
      "33600/33600 [==============================] - ETA: 2s - loss: 0.0485 - acc: 0.990 - ETA: 2s - loss: 0.0524 - acc: 0.983 - ETA: 1s - loss: 0.0576 - acc: 0.979 - ETA: 1s - loss: 0.0686 - acc: 0.978 - ETA: 1s - loss: 0.0619 - acc: 0.980 - ETA: 1s - loss: 0.0614 - acc: 0.980 - ETA: 1s - loss: 0.0597 - acc: 0.981 - ETA: 1s - loss: 0.0592 - acc: 0.981 - ETA: 1s - loss: 0.0587 - acc: 0.981 - ETA: 1s - loss: 0.0579 - acc: 0.982 - ETA: 1s - loss: 0.0571 - acc: 0.981 - ETA: 1s - loss: 0.0576 - acc: 0.981 - ETA: 1s - loss: 0.0571 - acc: 0.981 - ETA: 1s - loss: 0.0575 - acc: 0.981 - ETA: 1s - loss: 0.0581 - acc: 0.981 - ETA: 1s - loss: 0.0574 - acc: 0.981 - ETA: 1s - loss: 0.0567 - acc: 0.982 - ETA: 1s - loss: 0.0574 - acc: 0.981 - ETA: 1s - loss: 0.0570 - acc: 0.981 - ETA: 0s - loss: 0.0568 - acc: 0.982 - ETA: 0s - loss: 0.0558 - acc: 0.982 - ETA: 0s - loss: 0.0559 - acc: 0.982 - ETA: 0s - loss: 0.0549 - acc: 0.982 - ETA: 0s - loss: 0.0551 - acc: 0.982 - ETA: 0s - loss: 0.0555 - acc: 0.982 - ETA: 0s - loss: 0.0553 - acc: 0.982 - ETA: 0s - loss: 0.0550 - acc: 0.982 - ETA: 0s - loss: 0.0548 - acc: 0.982 - ETA: 0s - loss: 0.0547 - acc: 0.982 - ETA: 0s - loss: 0.0551 - acc: 0.982 - ETA: 0s - loss: 0.0555 - acc: 0.982 - ETA: 0s - loss: 0.0560 - acc: 0.982 - ETA: 0s - loss: 0.0557 - acc: 0.982 - ETA: 0s - loss: 0.0552 - acc: 0.982 - ETA: 0s - loss: 0.0545 - acc: 0.983 - ETA: 0s - loss: 0.0542 - acc: 0.983 - ETA: 0s - loss: 0.0542 - acc: 0.983 - 2s 67us/step - loss: 0.0536 - acc: 0.9834 - val_loss: 0.0428 - val_acc: 0.9855\n",
      "\n",
      "Epoch 00005: val_loss improved from 0.04635 to 0.04284, saving model to 0925_digi.h5\n"
     ]
    },
    {
     "data": {
      "text/plain": [
       "<keras.callbacks.History at 0x19b1630fda0>"
      ]
     },
     "execution_count": 73,
     "metadata": {},
     "output_type": "execute_result"
    }
   ],
   "source": [
    "from keras.callbacks import ModelCheckpoint\n",
    "from keras.callbacks import EarlyStopping\n",
    "\n",
    "earlystopping = EarlyStopping(monitor='val_loss', \n",
    "                              patience=5, \n",
    "                              verbose=1)\n",
    "\n",
    "checkpoint = ModelCheckpoint(filepath='0925_digi.h5', \n",
    "                             monitor='val_loss', verbose=1, \n",
    "                             save_best_only=True, \n",
    "                             mode='min')\n",
    "model.fit(x, \n",
    "          y, \n",
    "          epochs=5, \n",
    "          callbacks=[earlystopping, checkpoint],\n",
    "          validation_data=(x_val, y_val),\n",
    "          batch_size=300,\n",
    "          verbose=1) # validation_split=0.2"
   ]
  },
  {
   "cell_type": "code",
   "execution_count": 74,
   "metadata": {},
   "outputs": [
    {
     "name": "stdout",
     "output_type": "stream",
     "text": [
      "8400/8400 [==============================] - ETA:  - ETA:  - ETA:  - ETA:  - ETA:  - ETA:  - ETA:  - ETA:  - ETA:  - ETA:  - ETA:  - ETA:  - ETA:  - ETA:  - ETA:  - ETA:  - ETA:  - ETA:  - ETA:  - ETA:  - 1s 122us/step\n"
     ]
    },
    {
     "data": {
      "text/plain": [
       "0.04283974842678401"
      ]
     },
     "execution_count": 74,
     "metadata": {},
     "output_type": "execute_result"
    }
   ],
   "source": [
    "test_loss, test_acc = model.evaluate(x_val, y_val)\n",
    "test_loss"
   ]
  },
  {
   "cell_type": "code",
   "execution_count": 75,
   "metadata": {},
   "outputs": [
    {
     "data": {
      "text/plain": [
       "0.9854761904761905"
      ]
     },
     "execution_count": 75,
     "metadata": {},
     "output_type": "execute_result"
    }
   ],
   "source": [
    "test_acc"
   ]
  },
  {
   "cell_type": "markdown",
   "metadata": {},
   "source": [
    "# 觀察訓練資料"
   ]
  },
  {
   "cell_type": "code",
   "execution_count": 77,
   "metadata": {},
   "outputs": [
    {
     "name": "stdout",
     "output_type": "stream",
     "text": [
      "Train on 33600 samples, validate on 8400 samples\n",
      "Epoch 1/5\n",
      "33600/33600 [==============================] - ETA: 4s - loss: 0.0469 - acc: 0.990 - ETA: 2s - loss: 0.0368 - acc: 0.990 - ETA: 2s - loss: 0.0419 - acc: 0.987 - ETA: 2s - loss: 0.0416 - acc: 0.986 - ETA: 2s - loss: 0.0414 - acc: 0.986 - ETA: 2s - loss: 0.0422 - acc: 0.986 - ETA: 1s - loss: 0.0400 - acc: 0.986 - ETA: 1s - loss: 0.0387 - acc: 0.987 - ETA: 1s - loss: 0.0399 - acc: 0.986 - ETA: 1s - loss: 0.0412 - acc: 0.986 - ETA: 1s - loss: 0.0424 - acc: 0.985 - ETA: 1s - loss: 0.0425 - acc: 0.986 - ETA: 1s - loss: 0.0440 - acc: 0.985 - ETA: 1s - loss: 0.0446 - acc: 0.985 - ETA: 1s - loss: 0.0444 - acc: 0.986 - ETA: 1s - loss: 0.0450 - acc: 0.986 - ETA: 1s - loss: 0.0452 - acc: 0.986 - ETA: 1s - loss: 0.0454 - acc: 0.986 - ETA: 1s - loss: 0.0444 - acc: 0.986 - ETA: 1s - loss: 0.0449 - acc: 0.986 - ETA: 0s - loss: 0.0449 - acc: 0.986 - ETA: 0s - loss: 0.0448 - acc: 0.986 - ETA: 0s - loss: 0.0446 - acc: 0.986 - ETA: 0s - loss: 0.0442 - acc: 0.986 - ETA: 0s - loss: 0.0449 - acc: 0.986 - ETA: 0s - loss: 0.0448 - acc: 0.986 - ETA: 0s - loss: 0.0446 - acc: 0.986 - ETA: 0s - loss: 0.0441 - acc: 0.986 - ETA: 0s - loss: 0.0443 - acc: 0.986 - ETA: 0s - loss: 0.0441 - acc: 0.986 - ETA: 0s - loss: 0.0436 - acc: 0.986 - ETA: 0s - loss: 0.0438 - acc: 0.986 - ETA: 0s - loss: 0.0438 - acc: 0.986 - ETA: 0s - loss: 0.0438 - acc: 0.986 - ETA: 0s - loss: 0.0446 - acc: 0.986 - ETA: 0s - loss: 0.0446 - acc: 0.986 - ETA: 0s - loss: 0.0453 - acc: 0.985 - 2s 69us/step - loss: 0.0452 - acc: 0.9859 - val_loss: 0.0430 - val_acc: 0.9861\n",
      "\n",
      "Epoch 00001: val_loss did not improve\n",
      "Epoch 2/5\n",
      "33600/33600 [==============================] - ETA: 2s - loss: 0.0557 - acc: 0.980 - ETA: 1s - loss: 0.0391 - acc: 0.987 - ETA: 1s - loss: 0.0379 - acc: 0.987 - ETA: 1s - loss: 0.0376 - acc: 0.988 - ETA: 1s - loss: 0.0391 - acc: 0.987 - ETA: 1s - loss: 0.0390 - acc: 0.987 - ETA: 1s - loss: 0.0391 - acc: 0.987 - ETA: 1s - loss: 0.0416 - acc: 0.985 - ETA: 1s - loss: 0.0408 - acc: 0.986 - ETA: 1s - loss: 0.0420 - acc: 0.986 - ETA: 1s - loss: 0.0410 - acc: 0.986 - ETA: 1s - loss: 0.0414 - acc: 0.986 - ETA: 1s - loss: 0.0426 - acc: 0.985 - ETA: 1s - loss: 0.0411 - acc: 0.986 - ETA: 1s - loss: 0.0406 - acc: 0.986 - ETA: 1s - loss: 0.0427 - acc: 0.985 - ETA: 1s - loss: 0.0428 - acc: 0.985 - ETA: 1s - loss: 0.0429 - acc: 0.985 - ETA: 1s - loss: 0.0425 - acc: 0.985 - ETA: 0s - loss: 0.0421 - acc: 0.985 - ETA: 0s - loss: 0.0414 - acc: 0.985 - ETA: 0s - loss: 0.0418 - acc: 0.985 - ETA: 0s - loss: 0.0415 - acc: 0.985 - ETA: 0s - loss: 0.0410 - acc: 0.985 - ETA: 0s - loss: 0.0413 - acc: 0.985 - ETA: 0s - loss: 0.0422 - acc: 0.985 - ETA: 0s - loss: 0.0428 - acc: 0.985 - ETA: 0s - loss: 0.0432 - acc: 0.985 - ETA: 0s - loss: 0.0431 - acc: 0.985 - ETA: 0s - loss: 0.0426 - acc: 0.985 - ETA: 0s - loss: 0.0423 - acc: 0.985 - ETA: 0s - loss: 0.0422 - acc: 0.985 - ETA: 0s - loss: 0.0429 - acc: 0.985 - ETA: 0s - loss: 0.0422 - acc: 0.985 - ETA: 0s - loss: 0.0422 - acc: 0.985 - ETA: 0s - loss: 0.0421 - acc: 0.985 - ETA: 0s - loss: 0.0420 - acc: 0.985 - 2s 66us/step - loss: 0.0422 - acc: 0.9856 - val_loss: 0.0365 - val_acc: 0.9876\n",
      "\n",
      "Epoch 00002: val_loss improved from 0.04284 to 0.03650, saving model to 0925_digi.h5\n",
      "Epoch 3/5\n",
      "33600/33600 [==============================] - ETA: 1s - loss: 0.0421 - acc: 0.986 - ETA: 2s - loss: 0.0392 - acc: 0.987 - ETA: 1s - loss: 0.0334 - acc: 0.990 - ETA: 1s - loss: 0.0304 - acc: 0.991 - ETA: 1s - loss: 0.0292 - acc: 0.992 - ETA: 1s - loss: 0.0341 - acc: 0.990 - ETA: 1s - loss: 0.0374 - acc: 0.989 - ETA: 1s - loss: 0.0373 - acc: 0.989 - ETA: 1s - loss: 0.0366 - acc: 0.989 - ETA: 1s - loss: 0.0365 - acc: 0.988 - ETA: 1s - loss: 0.0365 - acc: 0.988 - ETA: 1s - loss: 0.0359 - acc: 0.988 - ETA: 1s - loss: 0.0348 - acc: 0.989 - ETA: 1s - loss: 0.0357 - acc: 0.988 - ETA: 1s - loss: 0.0358 - acc: 0.988 - ETA: 1s - loss: 0.0357 - acc: 0.988 - ETA: 1s - loss: 0.0370 - acc: 0.988 - ETA: 1s - loss: 0.0377 - acc: 0.988 - ETA: 1s - loss: 0.0373 - acc: 0.988 - ETA: 0s - loss: 0.0372 - acc: 0.988 - ETA: 0s - loss: 0.0373 - acc: 0.988 - ETA: 0s - loss: 0.0367 - acc: 0.988 - ETA: 0s - loss: 0.0375 - acc: 0.988 - ETA: 0s - loss: 0.0373 - acc: 0.988 - ETA: 0s - loss: 0.0369 - acc: 0.988 - ETA: 0s - loss: 0.0367 - acc: 0.988 - ETA: 0s - loss: 0.0368 - acc: 0.988 - ETA: 0s - loss: 0.0377 - acc: 0.988 - ETA: 0s - loss: 0.0376 - acc: 0.988 - ETA: 0s - loss: 0.0371 - acc: 0.988 - ETA: 0s - loss: 0.0365 - acc: 0.988 - ETA: 0s - loss: 0.0368 - acc: 0.988 - ETA: 0s - loss: 0.0366 - acc: 0.988 - ETA: 0s - loss: 0.0364 - acc: 0.988 - ETA: 0s - loss: 0.0365 - acc: 0.988 - ETA: 0s - loss: 0.0362 - acc: 0.988 - ETA: 0s - loss: 0.0359 - acc: 0.988 - 2s 67us/step - loss: 0.0358 - acc: 0.9889 - val_loss: 0.0340 - val_acc: 0.9885\n",
      "\n",
      "Epoch 00003: val_loss improved from 0.03650 to 0.03398, saving model to 0925_digi.h5\n",
      "Epoch 4/5\n",
      "33600/33600 [==============================] - ETA: 2s - loss: 0.0260 - acc: 0.993 - ETA: 2s - loss: 0.0245 - acc: 0.994 - ETA: 1s - loss: 0.0320 - acc: 0.991 - ETA: 1s - loss: 0.0324 - acc: 0.991 - ETA: 1s - loss: 0.0316 - acc: 0.990 - ETA: 1s - loss: 0.0310 - acc: 0.991 - ETA: 1s - loss: 0.0304 - acc: 0.991 - ETA: 1s - loss: 0.0292 - acc: 0.991 - ETA: 1s - loss: 0.0302 - acc: 0.991 - ETA: 1s - loss: 0.0290 - acc: 0.991 - ETA: 1s - loss: 0.0281 - acc: 0.991 - ETA: 1s - loss: 0.0280 - acc: 0.991 - ETA: 1s - loss: 0.0295 - acc: 0.991 - ETA: 1s - loss: 0.0304 - acc: 0.990 - ETA: 1s - loss: 0.0318 - acc: 0.990 - ETA: 1s - loss: 0.0325 - acc: 0.990 - ETA: 1s - loss: 0.0345 - acc: 0.990 - ETA: 1s - loss: 0.0348 - acc: 0.989 - ETA: 1s - loss: 0.0343 - acc: 0.990 - ETA: 0s - loss: 0.0340 - acc: 0.990 - ETA: 0s - loss: 0.0338 - acc: 0.990 - ETA: 0s - loss: 0.0347 - acc: 0.990 - ETA: 0s - loss: 0.0342 - acc: 0.990 - ETA: 0s - loss: 0.0342 - acc: 0.990 - ETA: 0s - loss: 0.0340 - acc: 0.990 - ETA: 0s - loss: 0.0343 - acc: 0.989 - ETA: 0s - loss: 0.0336 - acc: 0.990 - ETA: 0s - loss: 0.0336 - acc: 0.990 - ETA: 0s - loss: 0.0333 - acc: 0.990 - ETA: 0s - loss: 0.0331 - acc: 0.990 - ETA: 0s - loss: 0.0330 - acc: 0.990 - ETA: 0s - loss: 0.0334 - acc: 0.989 - ETA: 0s - loss: 0.0336 - acc: 0.989 - ETA: 0s - loss: 0.0335 - acc: 0.989 - ETA: 0s - loss: 0.0331 - acc: 0.990 - ETA: 0s - loss: 0.0337 - acc: 0.989 - ETA: 0s - loss: 0.0337 - acc: 0.989 - 2s 66us/step - loss: 0.0340 - acc: 0.9897 - val_loss: 0.0389 - val_acc: 0.9861\n",
      "\n",
      "Epoch 00004: val_loss did not improve\n",
      "Epoch 5/5\n",
      "33600/33600 [==============================] - ETA: 2s - loss: 0.0914 - acc: 0.973 - ETA: 1s - loss: 0.0434 - acc: 0.987 - ETA: 1s - loss: 0.0359 - acc: 0.989 - ETA: 1s - loss: 0.0394 - acc: 0.988 - ETA: 1s - loss: 0.0336 - acc: 0.989 - ETA: 1s - loss: 0.0318 - acc: 0.990 - ETA: 1s - loss: 0.0317 - acc: 0.990 - ETA: 1s - loss: 0.0305 - acc: 0.990 - ETA: 1s - loss: 0.0309 - acc: 0.990 - ETA: 1s - loss: 0.0310 - acc: 0.990 - ETA: 1s - loss: 0.0299 - acc: 0.990 - ETA: 1s - loss: 0.0283 - acc: 0.991 - ETA: 1s - loss: 0.0280 - acc: 0.991 - ETA: 1s - loss: 0.0284 - acc: 0.991 - ETA: 1s - loss: 0.0291 - acc: 0.991 - ETA: 1s - loss: 0.0300 - acc: 0.990 - ETA: 1s - loss: 0.0299 - acc: 0.990 - ETA: 1s - loss: 0.0298 - acc: 0.990 - ETA: 1s - loss: 0.0300 - acc: 0.990 - ETA: 0s - loss: 0.0306 - acc: 0.990 - ETA: 0s - loss: 0.0306 - acc: 0.990 - ETA: 0s - loss: 0.0311 - acc: 0.990 - ETA: 0s - loss: 0.0310 - acc: 0.990 - ETA: 0s - loss: 0.0306 - acc: 0.990 - ETA: 0s - loss: 0.0310 - acc: 0.990 - ETA: 0s - loss: 0.0312 - acc: 0.990 - ETA: 0s - loss: 0.0310 - acc: 0.990 - ETA: 0s - loss: 0.0313 - acc: 0.990 - ETA: 0s - loss: 0.0313 - acc: 0.990 - ETA: 0s - loss: 0.0311 - acc: 0.990 - ETA: 0s - loss: 0.0314 - acc: 0.990 - ETA: 0s - loss: 0.0316 - acc: 0.990 - ETA: 0s - loss: 0.0314 - acc: 0.990 - ETA: 0s - loss: 0.0312 - acc: 0.990 - ETA: 0s - loss: 0.0313 - acc: 0.990 - ETA: 0s - loss: 0.0311 - acc: 0.990 - ETA: 0s - loss: 0.0307 - acc: 0.990 - 2s 66us/step - loss: 0.0306 - acc: 0.9904 - val_loss: 0.0316 - val_acc: 0.9895\n",
      "\n",
      "Epoch 00005: val_loss improved from 0.03398 to 0.03157, saving model to 0925_digi.h5\n"
     ]
    }
   ],
   "source": [
    "history = model.fit(x, \n",
    "                    y, \n",
    "                    epochs=5, \n",
    "                    callbacks=[earlystopping, checkpoint],\n",
    "                    validation_data=(x_val, y_val),\n",
    "                    batch_size=300,\n",
    "                    verbose=1) # validation_split=0.2"
   ]
  },
  {
   "cell_type": "code",
   "execution_count": 78,
   "metadata": {},
   "outputs": [
    {
     "data": {
      "text/plain": [
       "dict_keys(['val_loss', 'val_acc', 'loss', 'acc'])"
      ]
     },
     "execution_count": 78,
     "metadata": {},
     "output_type": "execute_result"
    }
   ],
   "source": [
    "history_dict = history.history\n",
    "history_dict.keys()"
   ]
  },
  {
   "cell_type": "code",
   "execution_count": 79,
   "metadata": {},
   "outputs": [
    {
     "data": {
      "image/png": "[encoded data removed]",
      "text/plain": [
       "<matplotlib.figure.Figure at 0x19b19fd0ba8>"
      ]
     },
     "metadata": {},
     "output_type": "display_data"
    }
   ],
   "source": [
    "import matplotlib.pyplot as plt\n",
    "\n",
    "history_dict = history.history\n",
    "loss_values = history_dict['loss']\n",
    "val_loss_values = history_dict['val_loss']\n",
    "\n",
    "epochs = range(1, len(loss_values)+1)\n",
    "\n",
    "plt.plot(epochs, loss_values, 'bo', label='Training loss')\n",
    "plt.plot(epochs, val_loss_values, 'b', label='Test loss')\n",
    "plt.title('Training & Test Loss')\n",
    "plt.xlabel('Epochs')\n",
    "plt.ylabel('Loss')\n",
    "plt.legend()\n",
    "plt.show()"
   ]
  },
  {
   "cell_type": "code",
   "execution_count": 80,
   "metadata": {},
   "outputs": [
    {
     "data": {
      "image/png": "[encoded data removed]",
      "text/plain": [
       "<matplotlib.figure.Figure at 0x19b15b0ae80>"
      ]
     },
     "metadata": {},
     "output_type": "display_data"
    }
   ],
   "source": [
    "plt.clf()\n",
    "\n",
    "history_dict = history.history\n",
    "acc = history_dict['acc']\n",
    "val_acc = history_dict['val_acc']\n",
    "\n",
    "epochs = range(1, len(loss_values)+1)\n",
    "\n",
    "plt.plot(epochs, acc, 'bo', label='Training acc')\n",
    "plt.plot(epochs, val_acc, 'b', label='Test acc')\n",
    "plt.title('Training & Test acc')\n",
    "plt.xlabel('Epochs')\n",
    "plt.ylabel('acc')\n",
    "plt.legend()\n",
    "plt.show()"
   ]
  },
  {
   "cell_type": "code",
   "execution_count": null,
   "metadata": {},
   "outputs": [],
   "source": []
  },
  {
   "cell_type": "code",
   "execution_count": null,
   "metadata": {},
   "outputs": [],
   "source": []
  }
 ],
 "metadata": {
  "kernelspec": {
   "display_name": "Python 3",
   "language": "python",
   "name": "python3"
  },
  "language_info": {
   "codemirror_mode": {
    "name": "ipython",
    "version": 3
   },
   "file_extension": ".py",
   "mimetype": "text/x-python",
   "name": "python",
   "nbconvert_exporter": "python",
   "pygments_lexer": "ipython3",
   "version": "3.6.4"
  }
 },
 "nbformat": 4,
 "nbformat_minor": 2
}
