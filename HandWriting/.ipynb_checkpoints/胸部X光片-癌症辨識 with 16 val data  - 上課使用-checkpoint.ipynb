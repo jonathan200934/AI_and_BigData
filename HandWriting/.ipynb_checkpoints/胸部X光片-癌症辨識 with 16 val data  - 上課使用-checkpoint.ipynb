{
 "cells": [
  {
   "cell_type": "code",
   "execution_count": 5,
   "metadata": {},
   "outputs": [],
   "source": [
    "import tensorflow as tf\n",
    "import random\n",
    "import numpy as np\n",
    "import matplotlib.pyplot as plt\n",
    "from keras.layers import Dropout , GlobalAveragePooling2D\n",
    "%matplotlib inline\n",
    "from tensorflow.examples.tutorials.mnist import input_data\n",
    "from IPython import display\n",
    "from keras.utils import np_utils\n",
    "from tqdm import tqdm\n",
    "import csv\n",
    "import pandas as pd\n",
    "import numpy as np\n",
    "from keras.utils import np_utils\n",
    "from IPython.display import display, HTML\n",
    "np.random.seed(10)\n",
    "from sklearn.metrics import classification_report, confusion_matrix\n",
    "\n",
    "num_classes = 2 # NORMAL, PNEUMONIA\n",
    "target_size = (224,224)"
   ]
  },
  {
   "cell_type": "markdown",
   "metadata": {},
   "source": [
    "# 以影像生成器產生訓練/測試數據集"
   ]
  },
  {
   "cell_type": "code",
   "execution_count": 6,
   "metadata": {},
   "outputs": [
    {
     "name": "stdout",
     "output_type": "stream",
     "text": [
      "Found 4296 images belonging to 2 classes.\n",
      "Found 16 images belonging to 2 classes.\n",
      "Found 624 images belonging to 2 classes.\n"
     ]
    }
   ],
   "source": [
    "from keras.preprocessing.image import ImageDataGenerator\n",
    "\n",
    "# 設定圖片產生器, 將像素依1/255, 壓縮至[0-1]\n",
    "train_datagen = ImageDataGenerator(rescale=1./255,\n",
    "                                   shear_range=0.2,\n",
    "                                   zoom_range=0.2,\n",
    "                                   horizontal_flip=True) \n",
    "val_datagen = ImageDataGenerator(rescale=1./255)\n",
    "test_datagen = ImageDataGenerator(rescale=1./255)\n",
    "\n",
    "train_generator = train_datagen.flow_from_directory(\n",
    "        'D:/Kaggle/9_chest-xray-pneumonia/chest_xray/chest_xray/train',\n",
    "        target_size=(224,224),\n",
    "        batch_size=32,\n",
    "        class_mode='binary')\n",
    "\n",
    "val_generator = val_datagen.flow_from_directory(\n",
    "        'D:/Kaggle/9_chest-xray-pneumonia/chest_xray/chest_xray/val',\n",
    "        target_size=(224,224),\n",
    "        batch_size=32,\n",
    "        class_mode='binary',\n",
    "        shuffle=False)  #固定test數量與順序\n",
    "\n",
    "test_generator = test_datagen.flow_from_directory(\n",
    "        'D:/Kaggle/9_chest-xray-pneumonia/chest_xray/chest_xray/test',\n",
    "        target_size=(224,224),\n",
    "        batch_size=32,\n",
    "        class_mode='binary',\n",
    "        shuffle=False)  #固定test數量與順序"
   ]
  },
  {
   "cell_type": "markdown",
   "metadata": {},
   "source": [
    "# 1.1 呼叫VGG16自行訓練"
   ]
  },
  {
   "cell_type": "code",
   "execution_count": 7,
   "metadata": {},
   "outputs": [],
   "source": [
    "from keras import models\n",
    "from keras import layers\n",
    "from keras.applications import VGG16\n",
    "\n",
    "conv_base = VGG16(weights=None,include_top=False, input_shape=(224,224, 3))\n",
    "\n",
    "model = models.Sequential()\n",
    "model.add(conv_base)\n",
    "model.add(layers.Flatten())\n",
    "model.add(Dropout(0.3))\n",
    "model.add(layers.Dense(1024, activation='relu'))\n",
    "model.add(layers.Dense(64, activation='relu'))\n",
    "model.add(layers.Dense(1, activation='sigmoid'))"
   ]
  },
  {
   "cell_type": "code",
   "execution_count": 5,
   "metadata": {},
   "outputs": [
    {
     "name": "stdout",
     "output_type": "stream",
     "text": [
      "Epoch 1/128\n",
      "64/64 [==============================] - ETA: 10:56 - loss: 0.6932 - acc: 0.43 - ETA: 5:54 - loss: 0.6903 - acc: 0.6406 - ETA: 4:12 - loss: 0.6855 - acc: 0.656 - ETA: 3:21 - loss: 0.6611 - acc: 0.703 - ETA: 2:50 - loss: 0.6525 - acc: 0.706 - ETA: 2:29 - loss: 0.6262 - acc: 0.739 - ETA: 2:13 - loss: 0.6279 - acc: 0.736 - ETA: 2:02 - loss: 0.6181 - acc: 0.742 - ETA: 1:52 - loss: 0.6159 - acc: 0.739 - ETA: 1:45 - loss: 0.6064 - acc: 0.746 - ETA: 1:38 - loss: 0.6165 - acc: 0.738 - ETA: 1:33 - loss: 0.6211 - acc: 0.729 - ETA: 1:28 - loss: 0.6230 - acc: 0.723 - ETA: 1:23 - loss: 0.6199 - acc: 0.727 - ETA: 1:20 - loss: 0.6222 - acc: 0.722 - ETA: 1:16 - loss: 0.6144 - acc: 0.732 - ETA: 1:15 - loss: 0.6080 - acc: 0.737 - ETA: 1:13 - loss: 0.6125 - acc: 0.732 - ETA: 1:11 - loss: 0.6157 - acc: 0.727 - ETA: 1:10 - loss: 0.6172 - acc: 0.723 - ETA: 1:08 - loss: 0.6168 - acc: 0.723 - ETA: 1:06 - loss: 0.6171 - acc: 0.721 - ETA: 1:04 - loss: 0.6153 - acc: 0.722 - ETA: 1:02 - loss: 0.6138 - acc: 0.724 - ETA: 1:01 - loss: 0.6142 - acc: 0.722 - ETA: 1:00 - loss: 0.6089 - acc: 0.728 - ETA: 58s - loss: 0.6078 - acc: 0.729 - ETA: 56s - loss: 0.6051 - acc: 0.73 - ETA: 54s - loss: 0.6023 - acc: 0.73 - ETA: 53s - loss: 0.5997 - acc: 0.73 - ETA: 51s - loss: 0.5997 - acc: 0.73 - ETA: 50s - loss: 0.5979 - acc: 0.73 - ETA: 48s - loss: 0.5969 - acc: 0.73 - ETA: 46s - loss: 0.5970 - acc: 0.73 - ETA: 45s - loss: 0.5932 - acc: 0.73 - ETA: 43s - loss: 0.5889 - acc: 0.74 - ETA: 41s - loss: 0.5898 - acc: 0.74 - ETA: 40s - loss: 0.5901 - acc: 0.74 - ETA: 38s - loss: 0.5864 - acc: 0.74 - ETA: 37s - loss: 0.5827 - acc: 0.74 - ETA: 35s - loss: 0.5834 - acc: 0.74 - ETA: 33s - loss: 0.5829 - acc: 0.74 - ETA: 32s - loss: 0.5856 - acc: 0.74 - ETA: 30s - loss: 0.5874 - acc: 0.74 - ETA: 29s - loss: 0.5887 - acc: 0.73 - ETA: 27s - loss: 0.5877 - acc: 0.74 - ETA: 26s - loss: 0.5899 - acc: 0.73 - ETA: 24s - loss: 0.5898 - acc: 0.73 - ETA: 23s - loss: 0.5893 - acc: 0.73 - ETA: 21s - loss: 0.5861 - acc: 0.74 - ETA: 20s - loss: 0.5911 - acc: 0.73 - ETA: 18s - loss: 0.5896 - acc: 0.74 - ETA: 17s - loss: 0.5899 - acc: 0.74 - ETA: 15s - loss: 0.5885 - acc: 0.74 - ETA: 13s - loss: 0.5887 - acc: 0.74 - ETA: 12s - loss: 0.5877 - acc: 0.74 - ETA: 10s - loss: 0.5863 - acc: 0.74 - ETA: 9s - loss: 0.5845 - acc: 0.7435 - ETA: 7s - loss: 0.5860 - acc: 0.742 - ETA: 6s - loss: 0.5857 - acc: 0.742 - ETA: 4s - loss: 0.5854 - acc: 0.742 - ETA: 3s - loss: 0.5852 - acc: 0.742 - ETA: 1s - loss: 0.5853 - acc: 0.742 - 104s 2s/step - loss: 0.5839 - acc: 0.7432 - val_loss: 0.9204 - val_acc: 0.5000\n",
      "\n",
      "Epoch 00001: val_loss improved from inf to 0.92041, saving model to x_ray_0.h5\n",
      "Epoch 2/128\n",
      "64/64 [==============================] - ETA: 1:05 - loss: 0.6425 - acc: 0.687 - ETA: 1:03 - loss: 0.5618 - acc: 0.765 - ETA: 1:02 - loss: 0.5628 - acc: 0.760 - ETA: 1:01 - loss: 0.5939 - acc: 0.726 - ETA: 1:00 - loss: 0.5982 - acc: 0.718 - ETA: 59s - loss: 0.5910 - acc: 0.724 - ETA: 58s - loss: 0.5801 - acc: 0.73 - ETA: 57s - loss: 0.5628 - acc: 0.74 - ETA: 56s - loss: 0.5534 - acc: 0.75 - ETA: 55s - loss: 0.5494 - acc: 0.75 - ETA: 54s - loss: 0.5506 - acc: 0.75 - ETA: 53s - loss: 0.5383 - acc: 0.76 - ETA: 52s - loss: 0.5471 - acc: 0.76 - ETA: 51s - loss: 0.5385 - acc: 0.77 - ETA: 50s - loss: 0.5322 - acc: 0.77 - ETA: 49s - loss: 0.5349 - acc: 0.77 - ETA: 48s - loss: 0.5429 - acc: 0.77 - ETA: 48s - loss: 0.5445 - acc: 0.76 - ETA: 49s - loss: 0.5446 - acc: 0.76 - ETA: 48s - loss: 0.5432 - acc: 0.76 - ETA: 47s - loss: 0.5373 - acc: 0.77 - ETA: 47s - loss: 0.5436 - acc: 0.76 - ETA: 46s - loss: 0.5438 - acc: 0.76 - ETA: 45s - loss: 0.5437 - acc: 0.76 - ETA: 44s - loss: 0.5399 - acc: 0.77 - ETA: 44s - loss: 0.5508 - acc: 0.76 - ETA: 43s - loss: 0.5548 - acc: 0.75 - ETA: 42s - loss: 0.5561 - acc: 0.75 - ETA: 41s - loss: 0.5554 - acc: 0.75 - ETA: 40s - loss: 0.5505 - acc: 0.76 - ETA: 39s - loss: 0.5492 - acc: 0.76 - ETA: 38s - loss: 0.5484 - acc: 0.76 - ETA: 37s - loss: 0.5469 - acc: 0.76 - ETA: 36s - loss: 0.5463 - acc: 0.76 - ETA: 35s - loss: 0.5474 - acc: 0.75 - ETA: 34s - loss: 0.5454 - acc: 0.76 - ETA: 33s - loss: 0.5422 - acc: 0.76 - ETA: 32s - loss: 0.5421 - acc: 0.76 - ETA: 31s - loss: 0.5422 - acc: 0.76 - ETA: 30s - loss: 0.5409 - acc: 0.76 - ETA: 29s - loss: 0.5351 - acc: 0.76 - ETA: 27s - loss: 0.5331 - acc: 0.76 - ETA: 26s - loss: 0.5296 - acc: 0.77 - ETA: 25s - loss: 0.5377 - acc: 0.76 - ETA: 24s - loss: 0.5371 - acc: 0.76 - ETA: 23s - loss: 0.5360 - acc: 0.76 - ETA: 21s - loss: 0.5340 - acc: 0.76 - ETA: 20s - loss: 0.5338 - acc: 0.76 - ETA: 19s - loss: 0.5334 - acc: 0.76 - ETA: 18s - loss: 0.5337 - acc: 0.76 - ETA: 16s - loss: 0.5334 - acc: 0.76 - ETA: 15s - loss: 0.5287 - acc: 0.76 - ETA: 14s - loss: 0.5301 - acc: 0.76 - ETA: 13s - loss: 0.5296 - acc: 0.76 - ETA: 11s - loss: 0.5298 - acc: 0.76 - ETA: 10s - loss: 0.5285 - acc: 0.76 - ETA: 9s - loss: 0.5269 - acc: 0.7681 - ETA: 7s - loss: 0.5249 - acc: 0.769 - ETA: 6s - loss: 0.5241 - acc: 0.769 - ETA: 5s - loss: 0.5237 - acc: 0.769 - ETA: 3s - loss: 0.5209 - acc: 0.771 - ETA: 2s - loss: 0.5182 - acc: 0.772 - ETA: 1s - loss: 0.5189 - acc: 0.772 - 90s 1s/step - loss: 0.5172 - acc: 0.7739 - val_loss: 1.0091 - val_acc: 0.5000\n",
      "\n",
      "Epoch 00002: val_loss did not improve from 0.92041\n",
      "Epoch 3/128\n",
      "64/64 [==============================] - ETA: 1:48 - loss: 0.4854 - acc: 0.750 - ETA: 1:25 - loss: 0.4414 - acc: 0.765 - ETA: 1:16 - loss: 0.4280 - acc: 0.781 - ETA: 1:12 - loss: 0.4187 - acc: 0.789 - ETA: 1:09 - loss: 0.4089 - acc: 0.787 - ETA: 1:06 - loss: 0.4034 - acc: 0.786 - ETA: 1:04 - loss: 0.4154 - acc: 0.763 - ETA: 1:02 - loss: 0.4103 - acc: 0.769 - ETA: 1:00 - loss: 0.4192 - acc: 0.788 - ETA: 59s - loss: 0.4430 - acc: 0.775 - ETA: 57s - loss: 0.4538 - acc: 0.78 - ETA: 56s - loss: 0.4610 - acc: 0.77 - ETA: 55s - loss: 0.4574 - acc: 0.77 - ETA: 53s - loss: 0.4501 - acc: 0.77 - ETA: 52s - loss: 0.4530 - acc: 0.77 - ETA: 51s - loss: 0.4567 - acc: 0.77 - ETA: 50s - loss: 0.4552 - acc: 0.77 - ETA: 49s - loss: 0.4519 - acc: 0.78 - ETA: 47s - loss: 0.4437 - acc: 0.78 - ETA: 46s - loss: 0.4437 - acc: 0.78 - ETA: 45s - loss: 0.4424 - acc: 0.79 - ETA: 44s - loss: 0.4353 - acc: 0.79 - ETA: 43s - loss: 0.4305 - acc: 0.79 - ETA: 42s - loss: 0.4336 - acc: 0.79 - ETA: 41s - loss: 0.4362 - acc: 0.79 - ETA: 40s - loss: 0.4311 - acc: 0.79 - ETA: 39s - loss: 0.4309 - acc: 0.79 - ETA: 37s - loss: 0.4275 - acc: 0.79 - ETA: 36s - loss: 0.4228 - acc: 0.79 - ETA: 35s - loss: 0.4198 - acc: 0.79 - ETA: 34s - loss: 0.4249 - acc: 0.79 - ETA: 33s - loss: 0.4209 - acc: 0.79 - ETA: 32s - loss: 0.4165 - acc: 0.80 - ETA: 31s - loss: 0.4100 - acc: 0.80 - ETA: 30s - loss: 0.4074 - acc: 0.80 - ETA: 29s - loss: 0.4061 - acc: 0.81 - ETA: 28s - loss: 0.4088 - acc: 0.81 - ETA: 27s - loss: 0.4123 - acc: 0.80 - ETA: 26s - loss: 0.4097 - acc: 0.81 - ETA: 25s - loss: 0.4069 - acc: 0.81 - ETA: 24s - loss: 0.4016 - acc: 0.81 - ETA: 23s - loss: 0.4035 - acc: 0.81 - ETA: 21s - loss: 0.4011 - acc: 0.81 - ETA: 20s - loss: 0.3999 - acc: 0.81 - ETA: 19s - loss: 0.3936 - acc: 0.81 - ETA: 18s - loss: 0.3920 - acc: 0.82 - ETA: 17s - loss: 0.3905 - acc: 0.82 - ETA: 16s - loss: 0.3912 - acc: 0.82 - ETA: 15s - loss: 0.3910 - acc: 0.82 - ETA: 14s - loss: 0.3922 - acc: 0.82 - ETA: 13s - loss: 0.3903 - acc: 0.82 - ETA: 12s - loss: 0.3871 - acc: 0.82 - ETA: 11s - loss: 0.3818 - acc: 0.82 - ETA: 10s - loss: 0.3799 - acc: 0.82 - ETA: 9s - loss: 0.3783 - acc: 0.8278 - ETA: 8s - loss: 0.3787 - acc: 0.827 - ETA: 7s - loss: 0.3816 - acc: 0.826 - ETA: 6s - loss: 0.3810 - acc: 0.827 - ETA: 5s - loss: 0.3801 - acc: 0.827 - ETA: 4s - loss: 0.3798 - acc: 0.827 - ETA: 3s - loss: 0.3778 - acc: 0.828 - ETA: 2s - loss: 0.3794 - acc: 0.828 - ETA: 1s - loss: 0.3790 - acc: 0.828 - 72s 1s/step - loss: 0.3764 - acc: 0.8291 - val_loss: 0.6205 - val_acc: 0.8125\n",
      "\n",
      "Epoch 00003: val_loss improved from 0.92041 to 0.62052, saving model to x_ray_0.h5\n",
      "Epoch 4/128\n",
      "64/64 [==============================] - ETA: 1:04 - loss: 0.1887 - acc: 0.968 - ETA: 1:03 - loss: 0.2059 - acc: 0.937 - ETA: 1:03 - loss: 0.2192 - acc: 0.916 - ETA: 1:02 - loss: 0.2416 - acc: 0.898 - ETA: 1:00 - loss: 0.2373 - acc: 0.900 - ETA: 59s - loss: 0.2480 - acc: 0.885 - ETA: 58s - loss: 0.2325 - acc: 0.90 - ETA: 57s - loss: 0.2326 - acc: 0.89 - ETA: 56s - loss: 0.2499 - acc: 0.88 - ETA: 55s - loss: 0.2661 - acc: 0.87 - ETA: 54s - loss: 0.2540 - acc: 0.88 - ETA: 53s - loss: 0.2520 - acc: 0.88 - ETA: 52s - loss: 0.2462 - acc: 0.88 - ETA: 51s - loss: 0.2548 - acc: 0.88 - ETA: 50s - loss: 0.2870 - acc: 0.87 - ETA: 49s - loss: 0.2929 - acc: 0.87 - ETA: 48s - loss: 0.2955 - acc: 0.87 - ETA: 47s - loss: 0.2935 - acc: 0.87 - ETA: 46s - loss: 0.2928 - acc: 0.87 - ETA: 45s - loss: 0.2844 - acc: 0.87 - ETA: 44s - loss: 0.2846 - acc: 0.87 - ETA: 43s - loss: 0.2823 - acc: 0.87 - ETA: 42s - loss: 0.2776 - acc: 0.87 - ETA: 41s - loss: 0.2748 - acc: 0.88 - ETA: 40s - loss: 0.2698 - acc: 0.88 - ETA: 39s - loss: 0.2643 - acc: 0.88 - ETA: 38s - loss: 0.2601 - acc: 0.88 - ETA: 37s - loss: 0.2591 - acc: 0.88 - ETA: 36s - loss: 0.2607 - acc: 0.88 - ETA: 35s - loss: 0.2606 - acc: 0.88 - ETA: 34s - loss: 0.2639 - acc: 0.88 - ETA: 33s - loss: 0.2618 - acc: 0.88 - ETA: 31s - loss: 0.2667 - acc: 0.88 - ETA: 30s - loss: 0.2715 - acc: 0.87 - ETA: 29s - loss: 0.2773 - acc: 0.87 - ETA: 28s - loss: 0.2776 - acc: 0.87 - ETA: 27s - loss: 0.2781 - acc: 0.87 - ETA: 26s - loss: 0.2790 - acc: 0.87 - ETA: 25s - loss: 0.2787 - acc: 0.87 - ETA: 24s - loss: 0.2832 - acc: 0.86 - ETA: 23s - loss: 0.2778 - acc: 0.87 - ETA: 22s - loss: 0.2788 - acc: 0.87 - ETA: 21s - loss: 0.2824 - acc: 0.86 - ETA: 20s - loss: 0.2852 - acc: 0.86 - ETA: 19s - loss: 0.2835 - acc: 0.86 - ETA: 18s - loss: 0.2804 - acc: 0.87 - ETA: 17s - loss: 0.2795 - acc: 0.87 - ETA: 16s - loss: 0.2845 - acc: 0.86 - ETA: 15s - loss: 0.2850 - acc: 0.86 - ETA: 14s - loss: 0.2852 - acc: 0.86 - ETA: 13s - loss: 0.2839 - acc: 0.86 - ETA: 12s - loss: 0.2825 - acc: 0.87 - ETA: 11s - loss: 0.2809 - acc: 0.87 - ETA: 10s - loss: 0.2819 - acc: 0.86 - ETA: 9s - loss: 0.2817 - acc: 0.8693 - ETA: 8s - loss: 0.2802 - acc: 0.870 - ETA: 7s - loss: 0.2798 - acc: 0.870 - ETA: 6s - loss: 0.2801 - acc: 0.870 - ETA: 5s - loss: 0.2899 - acc: 0.868 - ETA: 4s - loss: 0.2923 - acc: 0.867 - ETA: 3s - loss: 0.2951 - acc: 0.865 - ETA: 2s - loss: 0.2946 - acc: 0.865 - ETA: 1s - loss: 0.2937 - acc: 0.866 - 70s 1s/step - loss: 0.2912 - acc: 0.8677 - val_loss: 0.9620 - val_acc: 0.6250\n",
      "\n",
      "Epoch 00004: val_loss did not improve from 0.62052\n",
      "Epoch 5/128\n",
      "64/64 [==============================] - ETA: 1:04 - loss: 0.3136 - acc: 0.843 - ETA: 1:04 - loss: 0.2837 - acc: 0.843 - ETA: 1:03 - loss: 0.2755 - acc: 0.864 - ETA: 1:02 - loss: 0.2543 - acc: 0.890 - ETA: 1:01 - loss: 0.2673 - acc: 0.900 - ETA: 1:00 - loss: 0.2740 - acc: 0.911 - ETA: 59s - loss: 0.2738 - acc: 0.910 - ETA: 57s - loss: 0.2934 - acc: 0.90 - ETA: 56s - loss: 0.2863 - acc: 0.90 - ETA: 55s - loss: 0.2769 - acc: 0.90 - ETA: 54s - loss: 0.2899 - acc: 0.90 - ETA: 53s - loss: 0.3171 - acc: 0.88 - ETA: 52s - loss: 0.3218 - acc: 0.87 - ETA: 51s - loss: 0.3153 - acc: 0.88 - ETA: 50s - loss: 0.3020 - acc: 0.88 - ETA: 49s - loss: 0.2951 - acc: 0.89 - ETA: 48s - loss: 0.2884 - acc: 0.89 - ETA: 47s - loss: 0.2877 - acc: 0.89 - ETA: 46s - loss: 0.2851 - acc: 0.89 - ETA: 45s - loss: 0.2859 - acc: 0.89 - ETA: 44s - loss: 0.2811 - acc: 0.89 - ETA: 43s - loss: 0.2732 - acc: 0.89 - ETA: 42s - loss: 0.2778 - acc: 0.89 - ETA: 41s - loss: 0.2759 - acc: 0.89 - ETA: 40s - loss: 0.2726 - acc: 0.89 - ETA: 39s - loss: 0.2671 - acc: 0.89 - ETA: 38s - loss: 0.2669 - acc: 0.89 - ETA: 37s - loss: 0.2747 - acc: 0.88 - ETA: 36s - loss: 0.2727 - acc: 0.88 - ETA: 35s - loss: 0.2662 - acc: 0.89 - ETA: 34s - loss: 0.2627 - acc: 0.89 - ETA: 33s - loss: 0.2598 - acc: 0.89 - ETA: 32s - loss: 0.2612 - acc: 0.89 - ETA: 31s - loss: 0.2595 - acc: 0.89 - ETA: 29s - loss: 0.2569 - acc: 0.89 - ETA: 28s - loss: 0.2564 - acc: 0.89 - ETA: 27s - loss: 0.2566 - acc: 0.89 - ETA: 26s - loss: 0.2577 - acc: 0.89 - ETA: 25s - loss: 0.2565 - acc: 0.89 - ETA: 24s - loss: 0.2621 - acc: 0.89 - ETA: 23s - loss: 0.2668 - acc: 0.89 - ETA: 22s - loss: 0.2635 - acc: 0.89 - ETA: 21s - loss: 0.2629 - acc: 0.89 - ETA: 20s - loss: 0.2619 - acc: 0.89 - ETA: 19s - loss: 0.2636 - acc: 0.89 - ETA: 18s - loss: 0.2625 - acc: 0.89 - ETA: 17s - loss: 0.2630 - acc: 0.89 - ETA: 16s - loss: 0.2601 - acc: 0.89 - ETA: 15s - loss: 0.2581 - acc: 0.89 - ETA: 14s - loss: 0.2566 - acc: 0.89 - ETA: 13s - loss: 0.2559 - acc: 0.89 - ETA: 12s - loss: 0.2586 - acc: 0.89 - ETA: 11s - loss: 0.2606 - acc: 0.89 - ETA: 10s - loss: 0.2628 - acc: 0.89 - ETA: 9s - loss: 0.2638 - acc: 0.8926 - ETA: 8s - loss: 0.2687 - acc: 0.890 - ETA: 7s - loss: 0.2719 - acc: 0.889 - ETA: 6s - loss: 0.2718 - acc: 0.889 - ETA: 5s - loss: 0.2704 - acc: 0.889 - ETA: 4s - loss: 0.2688 - acc: 0.891 - ETA: 3s - loss: 0.2680 - acc: 0.891 - ETA: 2s - loss: 0.2692 - acc: 0.890 - ETA: 1s - loss: 0.2689 - acc: 0.890 - 71s 1s/step - loss: 0.2667 - acc: 0.8926 - val_loss: 0.8845 - val_acc: 0.6875\n",
      "\n",
      "Epoch 00005: val_loss did not improve from 0.62052\n",
      "Epoch 6/128\n",
      "64/64 [==============================] - ETA: 1:05 - loss: 0.1645 - acc: 0.937 - ETA: 1:04 - loss: 0.1962 - acc: 0.906 - ETA: 1:03 - loss: 0.3225 - acc: 0.843 - ETA: 1:02 - loss: 0.3108 - acc: 0.851 - ETA: 1:01 - loss: 0.2738 - acc: 0.875 - ETA: 59s - loss: 0.2512 - acc: 0.885 - ETA: 58s - loss: 0.2393 - acc: 0.88 - ETA: 57s - loss: 0.2444 - acc: 0.88 - ETA: 56s - loss: 0.2629 - acc: 0.88 - ETA: 55s - loss: 0.2619 - acc: 0.88 - ETA: 54s - loss: 0.2547 - acc: 0.88 - ETA: 50s - loss: 0.2741 - acc: 0.87 - ETA: 49s - loss: 0.2690 - acc: 0.87 - ETA: 49s - loss: 0.2700 - acc: 0.88 - ETA: 48s - loss: 0.2611 - acc: 0.88 - ETA: 47s - loss: 0.2528 - acc: 0.89 - ETA: 46s - loss: 0.2765 - acc: 0.88 - ETA: 45s - loss: 0.2749 - acc: 0.89 - ETA: 44s - loss: 0.2717 - acc: 0.89 - ETA: 43s - loss: 0.2663 - acc: 0.89 - ETA: 43s - loss: 0.2593 - acc: 0.89 - ETA: 42s - loss: 0.2513 - acc: 0.89 - ETA: 41s - loss: 0.2466 - acc: 0.89 - ETA: 40s - loss: 0.2483 - acc: 0.89 - ETA: 39s - loss: 0.2729 - acc: 0.89 - ETA: 38s - loss: 0.2734 - acc: 0.88 - ETA: 37s - loss: 0.2678 - acc: 0.89 - ETA: 36s - loss: 0.2605 - acc: 0.89 - ETA: 35s - loss: 0.2587 - acc: 0.89 - ETA: 34s - loss: 0.2528 - acc: 0.89 - ETA: 33s - loss: 0.2524 - acc: 0.89 - ETA: 32s - loss: 0.2593 - acc: 0.89 - ETA: 31s - loss: 0.2602 - acc: 0.89 - ETA: 30s - loss: 0.2545 - acc: 0.89 - ETA: 29s - loss: 0.2552 - acc: 0.89 - ETA: 28s - loss: 0.2557 - acc: 0.89 - ETA: 27s - loss: 0.2542 - acc: 0.89 - ETA: 26s - loss: 0.2591 - acc: 0.89 - ETA: 25s - loss: 0.2592 - acc: 0.89 - ETA: 24s - loss: 0.2643 - acc: 0.88 - ETA: 23s - loss: 0.2651 - acc: 0.88 - ETA: 22s - loss: 0.2631 - acc: 0.88 - ETA: 21s - loss: 0.2628 - acc: 0.88 - ETA: 20s - loss: 0.2588 - acc: 0.88 - ETA: 19s - loss: 0.2579 - acc: 0.88 - ETA: 18s - loss: 0.2586 - acc: 0.88 - ETA: 17s - loss: 0.2606 - acc: 0.88 - ETA: 16s - loss: 0.2581 - acc: 0.89 - ETA: 15s - loss: 0.2587 - acc: 0.89 - ETA: 14s - loss: 0.2577 - acc: 0.89 - ETA: 13s - loss: 0.2570 - acc: 0.89 - ETA: 12s - loss: 0.2582 - acc: 0.89 - ETA: 11s - loss: 0.2560 - acc: 0.89 - ETA: 10s - loss: 0.2545 - acc: 0.89 - ETA: 9s - loss: 0.2559 - acc: 0.8909 - ETA: 8s - loss: 0.2553 - acc: 0.891 - ETA: 7s - loss: 0.2554 - acc: 0.890 - ETA: 6s - loss: 0.2527 - acc: 0.891 - ETA: 5s - loss: 0.2570 - acc: 0.890 - ETA: 4s - loss: 0.2591 - acc: 0.889 - ETA: 3s - loss: 0.2584 - acc: 0.889 - ETA: 2s - loss: 0.2570 - acc: 0.891 - ETA: 1s - loss: 0.2560 - acc: 0.891 - 70s 1s/step - loss: 0.2562 - acc: 0.8921 - val_loss: 0.5491 - val_acc: 0.6875\n",
      "\n",
      "Epoch 00006: val_loss improved from 0.62052 to 0.54913, saving model to x_ray_0.h5\n",
      "Epoch 7/128\n"
     ]
    },
    {
     "name": "stdout",
     "output_type": "stream",
     "text": [
      "64/64 [==============================] - ETA: 1:05 - loss: 0.2607 - acc: 0.937 - ETA: 1:04 - loss: 0.2274 - acc: 0.937 - ETA: 1:03 - loss: 0.2811 - acc: 0.906 - ETA: 1:02 - loss: 0.2715 - acc: 0.906 - ETA: 1:01 - loss: 0.2597 - acc: 0.906 - ETA: 1:00 - loss: 0.2373 - acc: 0.916 - ETA: 58s - loss: 0.2240 - acc: 0.919 - ETA: 57s - loss: 0.2098 - acc: 0.92 - ETA: 56s - loss: 0.1976 - acc: 0.93 - ETA: 55s - loss: 0.2069 - acc: 0.92 - ETA: 54s - loss: 0.2285 - acc: 0.91 - ETA: 53s - loss: 0.2260 - acc: 0.91 - ETA: 52s - loss: 0.2179 - acc: 0.91 - ETA: 51s - loss: 0.2153 - acc: 0.92 - ETA: 50s - loss: 0.2108 - acc: 0.92 - ETA: 49s - loss: 0.2083 - acc: 0.92 - ETA: 48s - loss: 0.2097 - acc: 0.92 - ETA: 47s - loss: 0.2072 - acc: 0.92 - ETA: 46s - loss: 0.2090 - acc: 0.92 - ETA: 45s - loss: 0.2081 - acc: 0.92 - ETA: 44s - loss: 0.2083 - acc: 0.92 - ETA: 43s - loss: 0.2181 - acc: 0.92 - ETA: 42s - loss: 0.2154 - acc: 0.92 - ETA: 41s - loss: 0.2123 - acc: 0.92 - ETA: 40s - loss: 0.2084 - acc: 0.92 - ETA: 39s - loss: 0.2114 - acc: 0.92 - ETA: 38s - loss: 0.2107 - acc: 0.92 - ETA: 37s - loss: 0.2128 - acc: 0.92 - ETA: 36s - loss: 0.2139 - acc: 0.91 - ETA: 35s - loss: 0.2103 - acc: 0.92 - ETA: 34s - loss: 0.2110 - acc: 0.92 - ETA: 33s - loss: 0.2106 - acc: 0.91 - ETA: 32s - loss: 0.2124 - acc: 0.91 - ETA: 31s - loss: 0.2126 - acc: 0.91 - ETA: 29s - loss: 0.2122 - acc: 0.91 - ETA: 28s - loss: 0.2122 - acc: 0.91 - ETA: 27s - loss: 0.2092 - acc: 0.91 - ETA: 26s - loss: 0.2100 - acc: 0.91 - ETA: 25s - loss: 0.2222 - acc: 0.91 - ETA: 24s - loss: 0.2251 - acc: 0.91 - ETA: 23s - loss: 0.2224 - acc: 0.91 - ETA: 22s - loss: 0.2232 - acc: 0.91 - ETA: 21s - loss: 0.2205 - acc: 0.91 - ETA: 20s - loss: 0.2180 - acc: 0.91 - ETA: 19s - loss: 0.2143 - acc: 0.91 - ETA: 18s - loss: 0.2135 - acc: 0.91 - ETA: 17s - loss: 0.2115 - acc: 0.92 - ETA: 16s - loss: 0.2121 - acc: 0.91 - ETA: 15s - loss: 0.2140 - acc: 0.91 - ETA: 14s - loss: 0.2154 - acc: 0.91 - ETA: 13s - loss: 0.2156 - acc: 0.91 - ETA: 12s - loss: 0.2150 - acc: 0.91 - ETA: 11s - loss: 0.2199 - acc: 0.91 - ETA: 10s - loss: 0.2186 - acc: 0.91 - ETA: 9s - loss: 0.2179 - acc: 0.9159 - ETA: 8s - loss: 0.2193 - acc: 0.914 - ETA: 7s - loss: 0.2195 - acc: 0.915 - ETA: 6s - loss: 0.2190 - acc: 0.916 - ETA: 5s - loss: 0.2181 - acc: 0.917 - ETA: 4s - loss: 0.2154 - acc: 0.918 - ETA: 3s - loss: 0.2138 - acc: 0.919 - ETA: 2s - loss: 0.2136 - acc: 0.919 - ETA: 1s - loss: 0.2136 - acc: 0.918 - 71s 1s/step - loss: 0.2169 - acc: 0.9180 - val_loss: 0.6269 - val_acc: 0.6875\n",
      "\n",
      "Epoch 00007: val_loss did not improve from 0.54913\n",
      "Epoch 8/128\n",
      "64/64 [==============================] - ETA: 1:04 - loss: 0.1703 - acc: 0.968 - ETA: 1:03 - loss: 0.1516 - acc: 0.968 - ETA: 1:02 - loss: 0.1701 - acc: 0.947 - ETA: 1:01 - loss: 0.2571 - acc: 0.914 - ETA: 52s - loss: 0.2200 - acc: 0.931 - ETA: 52s - loss: 0.1989 - acc: 0.93 - ETA: 53s - loss: 0.2244 - acc: 0.92 - ETA: 52s - loss: 0.2131 - acc: 0.92 - ETA: 52s - loss: 0.2043 - acc: 0.93 - ETA: 52s - loss: 0.1923 - acc: 0.93 - ETA: 51s - loss: 0.1856 - acc: 0.93 - ETA: 50s - loss: 0.1933 - acc: 0.93 - ETA: 49s - loss: 0.1870 - acc: 0.93 - ETA: 49s - loss: 0.2005 - acc: 0.92 - ETA: 48s - loss: 0.2024 - acc: 0.92 - ETA: 47s - loss: 0.2011 - acc: 0.92 - ETA: 46s - loss: 0.2027 - acc: 0.92 - ETA: 45s - loss: 0.2105 - acc: 0.91 - ETA: 44s - loss: 0.2396 - acc: 0.90 - ETA: 43s - loss: 0.2427 - acc: 0.90 - ETA: 43s - loss: 0.2369 - acc: 0.91 - ETA: 42s - loss: 0.2435 - acc: 0.91 - ETA: 41s - loss: 0.2445 - acc: 0.91 - ETA: 40s - loss: 0.2446 - acc: 0.91 - ETA: 39s - loss: 0.2410 - acc: 0.91 - ETA: 38s - loss: 0.2383 - acc: 0.91 - ETA: 37s - loss: 0.2326 - acc: 0.91 - ETA: 36s - loss: 0.2308 - acc: 0.91 - ETA: 35s - loss: 0.2302 - acc: 0.91 - ETA: 34s - loss: 0.2306 - acc: 0.91 - ETA: 33s - loss: 0.2298 - acc: 0.91 - ETA: 32s - loss: 0.2237 - acc: 0.91 - ETA: 31s - loss: 0.2329 - acc: 0.91 - ETA: 30s - loss: 0.2321 - acc: 0.91 - ETA: 29s - loss: 0.2315 - acc: 0.91 - ETA: 28s - loss: 0.2301 - acc: 0.91 - ETA: 27s - loss: 0.2319 - acc: 0.91 - ETA: 26s - loss: 0.2318 - acc: 0.91 - ETA: 25s - loss: 0.2293 - acc: 0.91 - ETA: 24s - loss: 0.2268 - acc: 0.91 - ETA: 23s - loss: 0.2249 - acc: 0.91 - ETA: 22s - loss: 0.2252 - acc: 0.91 - ETA: 21s - loss: 0.2233 - acc: 0.91 - ETA: 20s - loss: 0.2202 - acc: 0.91 - ETA: 19s - loss: 0.2188 - acc: 0.92 - ETA: 18s - loss: 0.2212 - acc: 0.91 - ETA: 17s - loss: 0.2243 - acc: 0.91 - ETA: 16s - loss: 0.2228 - acc: 0.91 - ETA: 15s - loss: 0.2249 - acc: 0.91 - ETA: 14s - loss: 0.2271 - acc: 0.91 - ETA: 13s - loss: 0.2306 - acc: 0.91 - ETA: 12s - loss: 0.2297 - acc: 0.91 - ETA: 11s - loss: 0.2294 - acc: 0.91 - ETA: 10s - loss: 0.2303 - acc: 0.91 - ETA: 9s - loss: 0.2311 - acc: 0.9148 - ETA: 8s - loss: 0.2291 - acc: 0.915 - ETA: 7s - loss: 0.2289 - acc: 0.915 - ETA: 6s - loss: 0.2286 - acc: 0.915 - ETA: 5s - loss: 0.2287 - acc: 0.914 - ETA: 4s - loss: 0.2299 - acc: 0.913 - ETA: 3s - loss: 0.2288 - acc: 0.913 - ETA: 2s - loss: 0.2284 - acc: 0.913 - ETA: 1s - loss: 0.2267 - acc: 0.914 - 70s 1s/step - loss: 0.2250 - acc: 0.9150 - val_loss: 0.9618 - val_acc: 0.5625\n",
      "\n",
      "Epoch 00008: val_loss did not improve from 0.54913\n",
      "Epoch 9/128\n",
      "64/64 [==============================] - ETA: 1:05 - loss: 0.2131 - acc: 0.906 - ETA: 1:04 - loss: 0.2349 - acc: 0.875 - ETA: 1:03 - loss: 0.2959 - acc: 0.864 - ETA: 1:01 - loss: 0.2791 - acc: 0.882 - ETA: 1:00 - loss: 0.2597 - acc: 0.887 - ETA: 59s - loss: 0.2431 - acc: 0.901 - ETA: 58s - loss: 0.2476 - acc: 0.89 - ETA: 57s - loss: 0.2574 - acc: 0.89 - ETA: 56s - loss: 0.2503 - acc: 0.89 - ETA: 55s - loss: 0.2439 - acc: 0.90 - ETA: 54s - loss: 0.2289 - acc: 0.90 - ETA: 53s - loss: 0.2233 - acc: 0.91 - ETA: 52s - loss: 0.2185 - acc: 0.91 - ETA: 51s - loss: 0.2073 - acc: 0.91 - ETA: 50s - loss: 0.2111 - acc: 0.91 - ETA: 49s - loss: 0.2194 - acc: 0.91 - ETA: 48s - loss: 0.2190 - acc: 0.91 - ETA: 47s - loss: 0.2187 - acc: 0.91 - ETA: 46s - loss: 0.2189 - acc: 0.91 - ETA: 45s - loss: 0.2151 - acc: 0.91 - ETA: 44s - loss: 0.2183 - acc: 0.91 - ETA: 43s - loss: 0.2170 - acc: 0.91 - ETA: 42s - loss: 0.2137 - acc: 0.91 - ETA: 41s - loss: 0.2106 - acc: 0.91 - ETA: 40s - loss: 0.2119 - acc: 0.91 - ETA: 39s - loss: 0.2134 - acc: 0.91 - ETA: 38s - loss: 0.2096 - acc: 0.92 - ETA: 37s - loss: 0.2157 - acc: 0.91 - ETA: 36s - loss: 0.2167 - acc: 0.91 - ETA: 35s - loss: 0.2160 - acc: 0.91 - ETA: 34s - loss: 0.2122 - acc: 0.91 - ETA: 33s - loss: 0.2120 - acc: 0.91 - ETA: 32s - loss: 0.2125 - acc: 0.91 - ETA: 31s - loss: 0.2132 - acc: 0.92 - ETA: 29s - loss: 0.2131 - acc: 0.91 - ETA: 28s - loss: 0.2132 - acc: 0.91 - ETA: 27s - loss: 0.2158 - acc: 0.91 - ETA: 26s - loss: 0.2158 - acc: 0.91 - ETA: 25s - loss: 0.2145 - acc: 0.91 - ETA: 24s - loss: 0.2120 - acc: 0.91 - ETA: 23s - loss: 0.2149 - acc: 0.91 - ETA: 22s - loss: 0.2170 - acc: 0.91 - ETA: 21s - loss: 0.2178 - acc: 0.91 - ETA: 20s - loss: 0.2157 - acc: 0.91 - ETA: 19s - loss: 0.2134 - acc: 0.91 - ETA: 18s - loss: 0.2143 - acc: 0.91 - ETA: 17s - loss: 0.2119 - acc: 0.91 - ETA: 16s - loss: 0.2118 - acc: 0.91 - ETA: 15s - loss: 0.2111 - acc: 0.91 - ETA: 14s - loss: 0.2087 - acc: 0.92 - ETA: 13s - loss: 0.2056 - acc: 0.92 - ETA: 12s - loss: 0.2090 - acc: 0.92 - ETA: 11s - loss: 0.2118 - acc: 0.92 - ETA: 10s - loss: 0.2167 - acc: 0.91 - ETA: 9s - loss: 0.2192 - acc: 0.9159 - ETA: 8s - loss: 0.2186 - acc: 0.916 - ETA: 7s - loss: 0.2165 - acc: 0.917 - ETA: 6s - loss: 0.2153 - acc: 0.918 - ETA: 5s - loss: 0.2147 - acc: 0.917 - ETA: 4s - loss: 0.2143 - acc: 0.917 - ETA: 3s - loss: 0.2130 - acc: 0.917 - ETA: 2s - loss: 0.2113 - acc: 0.917 - ETA: 1s - loss: 0.2112 - acc: 0.917 - 70s 1s/step - loss: 0.2100 - acc: 0.9180 - val_loss: 1.4547 - val_acc: 0.6250\n",
      "\n",
      "Epoch 00009: val_loss did not improve from 0.54913\n",
      "Epoch 10/128\n",
      "64/64 [==============================] - ETA: 1:05 - loss: 0.1995 - acc: 0.906 - ETA: 1:04 - loss: 0.1662 - acc: 0.921 - ETA: 1:03 - loss: 0.2134 - acc: 0.895 - ETA: 1:02 - loss: 0.2872 - acc: 0.875 - ETA: 1:00 - loss: 0.2658 - acc: 0.887 - ETA: 59s - loss: 0.2691 - acc: 0.885 - ETA: 58s - loss: 0.2490 - acc: 0.89 - ETA: 57s - loss: 0.2464 - acc: 0.89 - ETA: 56s - loss: 0.2330 - acc: 0.90 - ETA: 55s - loss: 0.2198 - acc: 0.90 - ETA: 54s - loss: 0.2044 - acc: 0.91 - ETA: 53s - loss: 0.2096 - acc: 0.91 - ETA: 52s - loss: 0.2298 - acc: 0.91 - ETA: 51s - loss: 0.2360 - acc: 0.90 - ETA: 50s - loss: 0.2276 - acc: 0.91 - ETA: 49s - loss: 0.2369 - acc: 0.90 - ETA: 48s - loss: 0.2334 - acc: 0.90 - ETA: 47s - loss: 0.2293 - acc: 0.90 - ETA: 46s - loss: 0.2266 - acc: 0.90 - ETA: 45s - loss: 0.2212 - acc: 0.91 - ETA: 44s - loss: 0.2288 - acc: 0.91 - ETA: 43s - loss: 0.2319 - acc: 0.90 - ETA: 42s - loss: 0.2328 - acc: 0.90 - ETA: 41s - loss: 0.2300 - acc: 0.90 - ETA: 40s - loss: 0.2248 - acc: 0.91 - ETA: 39s - loss: 0.2186 - acc: 0.91 - ETA: 38s - loss: 0.2147 - acc: 0.91 - ETA: 37s - loss: 0.2189 - acc: 0.91 - ETA: 36s - loss: 0.2149 - acc: 0.91 - ETA: 35s - loss: 0.2147 - acc: 0.91 - ETA: 34s - loss: 0.2119 - acc: 0.91 - ETA: 33s - loss: 0.2113 - acc: 0.91 - ETA: 32s - loss: 0.2162 - acc: 0.91 - ETA: 30s - loss: 0.2231 - acc: 0.90 - ETA: 29s - loss: 0.2269 - acc: 0.90 - ETA: 28s - loss: 0.2300 - acc: 0.90 - ETA: 27s - loss: 0.2305 - acc: 0.90 - ETA: 26s - loss: 0.2335 - acc: 0.90 - ETA: 25s - loss: 0.2344 - acc: 0.90 - ETA: 24s - loss: 0.2331 - acc: 0.90 - ETA: 23s - loss: 0.2327 - acc: 0.90 - ETA: 22s - loss: 0.2394 - acc: 0.90 - ETA: 21s - loss: 0.2400 - acc: 0.89 - ETA: 20s - loss: 0.2387 - acc: 0.90 - ETA: 19s - loss: 0.2371 - acc: 0.90 - ETA: 18s - loss: 0.2351 - acc: 0.90 - ETA: 17s - loss: 0.2362 - acc: 0.90 - ETA: 16s - loss: 0.2355 - acc: 0.90 - ETA: 15s - loss: 0.2342 - acc: 0.90 - ETA: 14s - loss: 0.2326 - acc: 0.90 - ETA: 13s - loss: 0.2342 - acc: 0.90 - ETA: 12s - loss: 0.2327 - acc: 0.90 - ETA: 11s - loss: 0.2305 - acc: 0.90 - ETA: 10s - loss: 0.2312 - acc: 0.90 - ETA: 9s - loss: 0.2314 - acc: 0.9034 - ETA: 8s - loss: 0.2291 - acc: 0.905 - ETA: 7s - loss: 0.2262 - acc: 0.906 - ETA: 6s - loss: 0.2253 - acc: 0.906 - ETA: 5s - loss: 0.2252 - acc: 0.906 - ETA: 4s - loss: 0.2301 - acc: 0.904 - ETA: 3s - loss: 0.2299 - acc: 0.903 - ETA: 2s - loss: 0.2296 - acc: 0.903 - ETA: 1s - loss: 0.2286 - acc: 0.903 - 71s 1s/step - loss: 0.2291 - acc: 0.9043 - val_loss: 1.1706 - val_acc: 0.5625\n",
      "\n",
      "Epoch 00010: val_loss did not improve from 0.54913\n",
      "Epoch 11/128\n",
      "64/64 [==============================] - ETA: 1:05 - loss: 0.1657 - acc: 0.937 - ETA: 1:04 - loss: 0.1450 - acc: 0.953 - ETA: 1:03 - loss: 0.1449 - acc: 0.947 - ETA: 1:01 - loss: 0.1437 - acc: 0.945 - ETA: 1:00 - loss: 0.1455 - acc: 0.943 - ETA: 59s - loss: 0.1468 - acc: 0.942 - ETA: 58s - loss: 0.1322 - acc: 0.95 - ETA: 57s - loss: 0.1441 - acc: 0.94 - ETA: 56s - loss: 0.1525 - acc: 0.93 - ETA: 55s - loss: 0.1673 - acc: 0.93 - ETA: 54s - loss: 0.1629 - acc: 0.93 - ETA: 53s - loss: 0.1596 - acc: 0.93 - ETA: 52s - loss: 0.1616 - acc: 0.93 - ETA: 51s - loss: 0.1678 - acc: 0.92 - ETA: 50s - loss: 0.1632 - acc: 0.93 - ETA: 49s - loss: 0.1703 - acc: 0.93 - ETA: 48s - loss: 0.1643 - acc: 0.93 - ETA: 47s - loss: 0.1717 - acc: 0.93 - ETA: 46s - loss: 0.1774 - acc: 0.93 - ETA: 45s - loss: 0.1748 - acc: 0.93 - ETA: 44s - loss: 0.1768 - acc: 0.93 - ETA: 43s - loss: 0.1844 - acc: 0.92 - ETA: 42s - loss: 0.1898 - acc: 0.92 - ETA: 41s - loss: 0.1891 - acc: 0.92 - ETA: 40s - loss: 0.1830 - acc: 0.92 - ETA: 39s - loss: 0.1777 - acc: 0.92 - ETA: 38s - loss: 0.1787 - acc: 0.92 - ETA: 37s - loss: 0.1838 - acc: 0.92 - ETA: 36s - loss: 0.1853 - acc: 0.92 - ETA: 35s - loss: 0.1874 - acc: 0.92 - ETA: 34s - loss: 0.1862 - acc: 0.92 - ETA: 33s - loss: 0.1862 - acc: 0.92 - ETA: 32s - loss: 0.1861 - acc: 0.92 - ETA: 31s - loss: 0.1882 - acc: 0.92 - ETA: 30s - loss: 0.1895 - acc: 0.92 - ETA: 28s - loss: 0.1885 - acc: 0.92 - ETA: 27s - loss: 0.1903 - acc: 0.91 - ETA: 26s - loss: 0.1894 - acc: 0.91 - ETA: 25s - loss: 0.1862 - acc: 0.92 - ETA: 24s - loss: 0.1874 - acc: 0.91 - ETA: 23s - loss: 0.1863 - acc: 0.92 - ETA: 22s - loss: 0.1844 - acc: 0.92 - ETA: 21s - loss: 0.1839 - acc: 0.92 - ETA: 20s - loss: 0.1862 - acc: 0.91 - ETA: 19s - loss: 0.1860 - acc: 0.92 - ETA: 18s - loss: 0.1943 - acc: 0.91 - ETA: 17s - loss: 0.1929 - acc: 0.91 - ETA: 16s - loss: 0.1944 - acc: 0.91 - ETA: 15s - loss: 0.1951 - acc: 0.91 - ETA: 14s - loss: 0.1953 - acc: 0.92 - ETA: 13s - loss: 0.1982 - acc: 0.91 - ETA: 12s - loss: 0.1998 - acc: 0.91 - ETA: 11s - loss: 0.1986 - acc: 0.91 - ETA: 10s - loss: 0.2017 - acc: 0.91 - ETA: 9s - loss: 0.2045 - acc: 0.9153 - ETA: 8s - loss: 0.2056 - acc: 0.914 - ETA: 7s - loss: 0.2037 - acc: 0.915 - ETA: 6s - loss: 0.2051 - acc: 0.914 - ETA: 5s - loss: 0.2031 - acc: 0.916 - ETA: 4s - loss: 0.2036 - acc: 0.916 - ETA: 3s - loss: 0.2016 - acc: 0.917 - ETA: 2s - loss: 0.1993 - acc: 0.918 - ETA: 1s - loss: 0.2007 - acc: 0.917 - 71s 1s/step - loss: 0.1985 - acc: 0.9189 - val_loss: 1.9170 - val_acc: 0.6250\n",
      "\n",
      "Epoch 00011: val_loss did not improve from 0.54913\n",
      "Epoch 12/128\n",
      "64/64 [==============================] - ETA: 1:05 - loss: 0.2801 - acc: 0.906 - ETA: 1:04 - loss: 0.2365 - acc: 0.890 - ETA: 1:03 - loss: 0.2172 - acc: 0.895 - ETA: 1:02 - loss: 0.1937 - acc: 0.898 - ETA: 1:01 - loss: 0.1889 - acc: 0.900 - ETA: 1:00 - loss: 0.1948 - acc: 0.901 - ETA: 59s - loss: 0.1947 - acc: 0.906 - ETA: 57s - loss: 0.1964 - acc: 0.90 - ETA: 56s - loss: 0.1852 - acc: 0.91 - ETA: 55s - loss: 0.1894 - acc: 0.91 - ETA: 54s - loss: 0.1835 - acc: 0.92 - ETA: 53s - loss: 0.1783 - acc: 0.92 - ETA: 52s - loss: 0.1721 - acc: 0.92 - ETA: 51s - loss: 0.1729 - acc: 0.92 - ETA: 50s - loss: 0.1885 - acc: 0.92 - ETA: 49s - loss: 0.1975 - acc: 0.91 - ETA: 48s - loss: 0.1936 - acc: 0.91 - ETA: 47s - loss: 0.1995 - acc: 0.91 - ETA: 46s - loss: 0.1946 - acc: 0.91 - ETA: 45s - loss: 0.1908 - acc: 0.92 - ETA: 43s - loss: 0.1887 - acc: 0.91 - ETA: 42s - loss: 0.1825 - acc: 0.92 - ETA: 41s - loss: 0.1821 - acc: 0.92 - ETA: 40s - loss: 0.1808 - acc: 0.92 - ETA: 39s - loss: 0.1775 - acc: 0.92 - ETA: 38s - loss: 0.1763 - acc: 0.92 - ETA: 37s - loss: 0.1768 - acc: 0.92 - ETA: 36s - loss: 0.1776 - acc: 0.92 - ETA: 35s - loss: 0.1807 - acc: 0.92 - ETA: 34s - loss: 0.1777 - acc: 0.92 - ETA: 33s - loss: 0.1772 - acc: 0.92 - ETA: 32s - loss: 0.1801 - acc: 0.92 - ETA: 31s - loss: 0.1802 - acc: 0.92 - ETA: 30s - loss: 0.1817 - acc: 0.92 - ETA: 29s - loss: 0.1871 - acc: 0.92 - ETA: 28s - loss: 0.1905 - acc: 0.91 - ETA: 27s - loss: 0.1889 - acc: 0.92 - ETA: 26s - loss: 0.1885 - acc: 0.92 - ETA: 25s - loss: 0.1871 - acc: 0.92 - ETA: 24s - loss: 0.1932 - acc: 0.91 - ETA: 23s - loss: 0.1946 - acc: 0.91 - ETA: 22s - loss: 0.1937 - acc: 0.91 - ETA: 21s - loss: 0.1905 - acc: 0.92 - ETA: 20s - loss: 0.1890 - acc: 0.92 - ETA: 19s - loss: 0.1894 - acc: 0.92 - ETA: 18s - loss: 0.1869 - acc: 0.92 - ETA: 17s - loss: 0.1848 - acc: 0.92 - ETA: 16s - loss: 0.1834 - acc: 0.92 - ETA: 15s - loss: 0.1823 - acc: 0.92 - ETA: 14s - loss: 0.1822 - acc: 0.92 - ETA: 13s - loss: 0.1797 - acc: 0.92 - ETA: 12s - loss: 0.1818 - acc: 0.92 - ETA: 11s - loss: 0.1834 - acc: 0.92 - ETA: 10s - loss: 0.1849 - acc: 0.92 - ETA: 9s - loss: 0.1867 - acc: 0.9244 - ETA: 8s - loss: 0.1890 - acc: 0.923 - ETA: 7s - loss: 0.1875 - acc: 0.924 - ETA: 6s - loss: 0.1891 - acc: 0.923 - ETA: 5s - loss: 0.1869 - acc: 0.923 - ETA: 4s - loss: 0.1870 - acc: 0.924 - ETA: 3s - loss: 0.1877 - acc: 0.924 - ETA: 2s - loss: 0.1899 - acc: 0.923 - ETA: 1s - loss: 0.1904 - acc: 0.923 - 71s 1s/step - loss: 0.1903 - acc: 0.9233 - val_loss: 0.5396 - val_acc: 0.8125\n",
      "\n",
      "Epoch 00012: val_loss improved from 0.54913 to 0.53958, saving model to x_ray_0.h5\n",
      "Epoch 13/128\n"
     ]
    },
    {
     "name": "stdout",
     "output_type": "stream",
     "text": [
      "64/64 [==============================] - ETA: 1:05 - loss: 0.3380 - acc: 0.843 - ETA: 1:04 - loss: 0.2150 - acc: 0.906 - ETA: 1:03 - loss: 0.1768 - acc: 0.927 - ETA: 1:02 - loss: 0.1719 - acc: 0.914 - ETA: 1:01 - loss: 0.2002 - acc: 0.906 - ETA: 1:00 - loss: 0.2178 - acc: 0.895 - ETA: 59s - loss: 0.2068 - acc: 0.901 - ETA: 58s - loss: 0.1868 - acc: 0.91 - ETA: 57s - loss: 0.1755 - acc: 0.92 - ETA: 56s - loss: 0.1654 - acc: 0.92 - ETA: 54s - loss: 0.1538 - acc: 0.93 - ETA: 53s - loss: 0.1720 - acc: 0.92 - ETA: 52s - loss: 0.1794 - acc: 0.92 - ETA: 51s - loss: 0.1797 - acc: 0.91 - ETA: 50s - loss: 0.1857 - acc: 0.91 - ETA: 49s - loss: 0.1881 - acc: 0.91 - ETA: 48s - loss: 0.1819 - acc: 0.91 - ETA: 47s - loss: 0.1815 - acc: 0.91 - ETA: 46s - loss: 0.1888 - acc: 0.90 - ETA: 45s - loss: 0.1889 - acc: 0.91 - ETA: 44s - loss: 0.1843 - acc: 0.91 - ETA: 43s - loss: 0.1857 - acc: 0.91 - ETA: 42s - loss: 0.1833 - acc: 0.91 - ETA: 41s - loss: 0.1858 - acc: 0.91 - ETA: 40s - loss: 0.1844 - acc: 0.91 - ETA: 39s - loss: 0.1836 - acc: 0.91 - ETA: 38s - loss: 0.1802 - acc: 0.91 - ETA: 37s - loss: 0.1795 - acc: 0.91 - ETA: 36s - loss: 0.1796 - acc: 0.91 - ETA: 35s - loss: 0.1772 - acc: 0.92 - ETA: 34s - loss: 0.1737 - acc: 0.92 - ETA: 33s - loss: 0.1747 - acc: 0.92 - ETA: 32s - loss: 0.1748 - acc: 0.92 - ETA: 31s - loss: 0.1775 - acc: 0.92 - ETA: 30s - loss: 0.1780 - acc: 0.91 - ETA: 29s - loss: 0.1771 - acc: 0.92 - ETA: 27s - loss: 0.1759 - acc: 0.92 - ETA: 26s - loss: 0.1739 - acc: 0.92 - ETA: 25s - loss: 0.1775 - acc: 0.92 - ETA: 24s - loss: 0.1787 - acc: 0.92 - ETA: 23s - loss: 0.1826 - acc: 0.91 - ETA: 22s - loss: 0.1802 - acc: 0.92 - ETA: 21s - loss: 0.1784 - acc: 0.92 - ETA: 20s - loss: 0.1804 - acc: 0.92 - ETA: 19s - loss: 0.1782 - acc: 0.92 - ETA: 18s - loss: 0.1784 - acc: 0.92 - ETA: 17s - loss: 0.1783 - acc: 0.92 - ETA: 16s - loss: 0.1783 - acc: 0.92 - ETA: 15s - loss: 0.1764 - acc: 0.92 - ETA: 14s - loss: 0.1767 - acc: 0.92 - ETA: 13s - loss: 0.1746 - acc: 0.92 - ETA: 12s - loss: 0.1752 - acc: 0.92 - ETA: 11s - loss: 0.1767 - acc: 0.92 - ETA: 10s - loss: 0.1771 - acc: 0.92 - ETA: 9s - loss: 0.1752 - acc: 0.9256 - ETA: 8s - loss: 0.1733 - acc: 0.926 - ETA: 7s - loss: 0.1729 - acc: 0.926 - ETA: 6s - loss: 0.1744 - acc: 0.925 - ETA: 5s - loss: 0.1738 - acc: 0.926 - ETA: 4s - loss: 0.1722 - acc: 0.927 - ETA: 3s - loss: 0.1711 - acc: 0.928 - ETA: 2s - loss: 0.1703 - acc: 0.928 - ETA: 1s - loss: 0.1685 - acc: 0.929 - 71s 1s/step - loss: 0.1698 - acc: 0.9292 - val_loss: 1.3948 - val_acc: 0.6250\n",
      "\n",
      "Epoch 00013: val_loss did not improve from 0.53958\n",
      "Epoch 14/128\n",
      "64/64 [==============================] - ETA: 1:05 - loss: 0.2325 - acc: 0.906 - ETA: 1:04 - loss: 0.2265 - acc: 0.906 - ETA: 1:03 - loss: 0.2128 - acc: 0.906 - ETA: 1:02 - loss: 0.2095 - acc: 0.914 - ETA: 1:01 - loss: 0.1794 - acc: 0.931 - ETA: 59s - loss: 0.1926 - acc: 0.932 - ETA: 58s - loss: 0.1854 - acc: 0.93 - ETA: 57s - loss: 0.1830 - acc: 0.94 - ETA: 56s - loss: 0.1786 - acc: 0.94 - ETA: 55s - loss: 0.1710 - acc: 0.95 - ETA: 54s - loss: 0.1585 - acc: 0.95 - ETA: 53s - loss: 0.1545 - acc: 0.95 - ETA: 52s - loss: 0.1731 - acc: 0.94 - ETA: 51s - loss: 0.1810 - acc: 0.93 - ETA: 50s - loss: 0.1789 - acc: 0.94 - ETA: 49s - loss: 0.1723 - acc: 0.94 - ETA: 48s - loss: 0.1732 - acc: 0.94 - ETA: 47s - loss: 0.1683 - acc: 0.94 - ETA: 46s - loss: 0.1660 - acc: 0.94 - ETA: 45s - loss: 0.1619 - acc: 0.94 - ETA: 44s - loss: 0.1619 - acc: 0.94 - ETA: 43s - loss: 0.1614 - acc: 0.94 - ETA: 42s - loss: 0.1564 - acc: 0.94 - ETA: 41s - loss: 0.1537 - acc: 0.94 - ETA: 40s - loss: 0.1600 - acc: 0.94 - ETA: 39s - loss: 0.1626 - acc: 0.93 - ETA: 38s - loss: 0.1588 - acc: 0.93 - ETA: 37s - loss: 0.1663 - acc: 0.93 - ETA: 36s - loss: 0.1641 - acc: 0.93 - ETA: 35s - loss: 0.1722 - acc: 0.93 - ETA: 34s - loss: 0.1772 - acc: 0.93 - ETA: 33s - loss: 0.1761 - acc: 0.93 - ETA: 32s - loss: 0.1733 - acc: 0.93 - ETA: 31s - loss: 0.1712 - acc: 0.93 - ETA: 29s - loss: 0.1737 - acc: 0.93 - ETA: 28s - loss: 0.1714 - acc: 0.93 - ETA: 27s - loss: 0.1683 - acc: 0.93 - ETA: 26s - loss: 0.1709 - acc: 0.93 - ETA: 25s - loss: 0.1694 - acc: 0.93 - ETA: 24s - loss: 0.1710 - acc: 0.93 - ETA: 23s - loss: 0.1696 - acc: 0.93 - ETA: 22s - loss: 0.1690 - acc: 0.93 - ETA: 21s - loss: 0.1705 - acc: 0.93 - ETA: 20s - loss: 0.1707 - acc: 0.93 - ETA: 19s - loss: 0.1691 - acc: 0.93 - ETA: 18s - loss: 0.1680 - acc: 0.93 - ETA: 17s - loss: 0.1715 - acc: 0.93 - ETA: 16s - loss: 0.1736 - acc: 0.93 - ETA: 15s - loss: 0.1720 - acc: 0.93 - ETA: 14s - loss: 0.1729 - acc: 0.93 - ETA: 13s - loss: 0.1731 - acc: 0.93 - ETA: 12s - loss: 0.1737 - acc: 0.93 - ETA: 11s - loss: 0.1759 - acc: 0.93 - ETA: 10s - loss: 0.1772 - acc: 0.93 - ETA: 9s - loss: 0.1764 - acc: 0.9324 - ETA: 8s - loss: 0.1748 - acc: 0.932 - ETA: 7s - loss: 0.1737 - acc: 0.933 - ETA: 6s - loss: 0.1719 - acc: 0.933 - ETA: 5s - loss: 0.1731 - acc: 0.933 - ETA: 4s - loss: 0.1725 - acc: 0.933 - ETA: 3s - loss: 0.1721 - acc: 0.933 - ETA: 2s - loss: 0.1701 - acc: 0.935 - ETA: 1s - loss: 0.1692 - acc: 0.935 - 71s 1s/step - loss: 0.1678 - acc: 0.9355 - val_loss: 0.9082 - val_acc: 0.6250\n",
      "\n",
      "Epoch 00014: val_loss did not improve from 0.53958\n",
      "Epoch 15/128\n",
      "64/64 [==============================] - ETA: 1:04 - loss: 0.0312 - acc: 1.000 - ETA: 1:03 - loss: 0.0427 - acc: 1.000 - ETA: 1:02 - loss: 0.0821 - acc: 0.979 - ETA: 1:01 - loss: 0.1666 - acc: 0.945 - ETA: 1:00 - loss: 0.2297 - acc: 0.918 - ETA: 59s - loss: 0.2291 - acc: 0.921 - ETA: 58s - loss: 0.2200 - acc: 0.92 - ETA: 57s - loss: 0.2123 - acc: 0.92 - ETA: 56s - loss: 0.1982 - acc: 0.93 - ETA: 55s - loss: 0.1954 - acc: 0.93 - ETA: 54s - loss: 0.1909 - acc: 0.93 - ETA: 53s - loss: 0.1849 - acc: 0.93 - ETA: 52s - loss: 0.1879 - acc: 0.93 - ETA: 51s - loss: 0.2021 - acc: 0.92 - ETA: 50s - loss: 0.1984 - acc: 0.92 - ETA: 49s - loss: 0.2003 - acc: 0.92 - ETA: 48s - loss: 0.2088 - acc: 0.91 - ETA: 47s - loss: 0.2089 - acc: 0.91 - ETA: 46s - loss: 0.2081 - acc: 0.91 - ETA: 45s - loss: 0.2044 - acc: 0.91 - ETA: 44s - loss: 0.2011 - acc: 0.91 - ETA: 43s - loss: 0.1996 - acc: 0.91 - ETA: 42s - loss: 0.1999 - acc: 0.91 - ETA: 41s - loss: 0.1997 - acc: 0.91 - ETA: 40s - loss: 0.1985 - acc: 0.91 - ETA: 39s - loss: 0.1927 - acc: 0.91 - ETA: 38s - loss: 0.1896 - acc: 0.91 - ETA: 37s - loss: 0.1920 - acc: 0.91 - ETA: 35s - loss: 0.1874 - acc: 0.92 - ETA: 34s - loss: 0.1897 - acc: 0.92 - ETA: 33s - loss: 0.1983 - acc: 0.91 - ETA: 32s - loss: 0.1963 - acc: 0.91 - ETA: 31s - loss: 0.1925 - acc: 0.92 - ETA: 30s - loss: 0.1964 - acc: 0.91 - ETA: 29s - loss: 0.1966 - acc: 0.91 - ETA: 28s - loss: 0.1938 - acc: 0.92 - ETA: 27s - loss: 0.1959 - acc: 0.91 - ETA: 26s - loss: 0.1984 - acc: 0.91 - ETA: 25s - loss: 0.1962 - acc: 0.91 - ETA: 24s - loss: 0.1952 - acc: 0.91 - ETA: 23s - loss: 0.1952 - acc: 0.92 - ETA: 22s - loss: 0.1924 - acc: 0.92 - ETA: 21s - loss: 0.1953 - acc: 0.92 - ETA: 20s - loss: 0.1955 - acc: 0.92 - ETA: 19s - loss: 0.1963 - acc: 0.92 - ETA: 18s - loss: 0.1959 - acc: 0.92 - ETA: 17s - loss: 0.1941 - acc: 0.92 - ETA: 16s - loss: 0.1959 - acc: 0.91 - ETA: 15s - loss: 0.1961 - acc: 0.91 - ETA: 14s - loss: 0.1949 - acc: 0.92 - ETA: 13s - loss: 0.1935 - acc: 0.92 - ETA: 12s - loss: 0.1904 - acc: 0.92 - ETA: 11s - loss: 0.1890 - acc: 0.92 - ETA: 10s - loss: 0.1911 - acc: 0.92 - ETA: 9s - loss: 0.1932 - acc: 0.9210 - ETA: 8s - loss: 0.1959 - acc: 0.919 - ETA: 7s - loss: 0.1950 - acc: 0.919 - ETA: 6s - loss: 0.1948 - acc: 0.919 - ETA: 5s - loss: 0.1941 - acc: 0.920 - ETA: 4s - loss: 0.1917 - acc: 0.921 - ETA: 3s - loss: 0.1904 - acc: 0.922 - ETA: 2s - loss: 0.1884 - acc: 0.922 - ETA: 1s - loss: 0.1871 - acc: 0.923 - 70s 1s/step - loss: 0.1848 - acc: 0.9243 - val_loss: 0.8258 - val_acc: 0.6875\n",
      "\n",
      "Epoch 00015: val_loss did not improve from 0.53958\n",
      "Epoch 16/128\n",
      "64/64 [==============================] - ETA: 1:05 - loss: 0.2575 - acc: 0.843 - ETA: 1:04 - loss: 0.2220 - acc: 0.859 - ETA: 1:03 - loss: 0.2045 - acc: 0.885 - ETA: 1:02 - loss: 0.1774 - acc: 0.906 - ETA: 1:00 - loss: 0.1562 - acc: 0.918 - ETA: 59s - loss: 0.2011 - acc: 0.916 - ETA: 58s - loss: 0.2055 - acc: 0.91 - ETA: 57s - loss: 0.1969 - acc: 0.91 - ETA: 56s - loss: 0.1892 - acc: 0.92 - ETA: 55s - loss: 0.1903 - acc: 0.92 - ETA: 54s - loss: 0.1829 - acc: 0.92 - ETA: 53s - loss: 0.1758 - acc: 0.92 - ETA: 52s - loss: 0.1744 - acc: 0.93 - ETA: 51s - loss: 0.1708 - acc: 0.93 - ETA: 50s - loss: 0.1684 - acc: 0.93 - ETA: 49s - loss: 0.1746 - acc: 0.93 - ETA: 48s - loss: 0.1814 - acc: 0.92 - ETA: 47s - loss: 0.1915 - acc: 0.92 - ETA: 46s - loss: 0.1877 - acc: 0.92 - ETA: 45s - loss: 0.1870 - acc: 0.92 - ETA: 44s - loss: 0.1863 - acc: 0.92 - ETA: 43s - loss: 0.1827 - acc: 0.92 - ETA: 42s - loss: 0.1871 - acc: 0.92 - ETA: 41s - loss: 0.1869 - acc: 0.92 - ETA: 40s - loss: 0.1860 - acc: 0.92 - ETA: 39s - loss: 0.1866 - acc: 0.92 - ETA: 38s - loss: 0.1842 - acc: 0.92 - ETA: 37s - loss: 0.1848 - acc: 0.92 - ETA: 36s - loss: 0.1889 - acc: 0.92 - ETA: 35s - loss: 0.1888 - acc: 0.92 - ETA: 34s - loss: 0.1922 - acc: 0.92 - ETA: 33s - loss: 0.1920 - acc: 0.92 - ETA: 32s - loss: 0.1880 - acc: 0.92 - ETA: 31s - loss: 0.1905 - acc: 0.92 - ETA: 29s - loss: 0.1915 - acc: 0.92 - ETA: 28s - loss: 0.1912 - acc: 0.92 - ETA: 27s - loss: 0.1915 - acc: 0.92 - ETA: 26s - loss: 0.1912 - acc: 0.92 - ETA: 25s - loss: 0.1905 - acc: 0.92 - ETA: 24s - loss: 0.1921 - acc: 0.92 - ETA: 23s - loss: 0.1922 - acc: 0.92 - ETA: 22s - loss: 0.1906 - acc: 0.92 - ETA: 21s - loss: 0.1894 - acc: 0.92 - ETA: 20s - loss: 0.1898 - acc: 0.92 - ETA: 19s - loss: 0.1885 - acc: 0.92 - ETA: 18s - loss: 0.1890 - acc: 0.92 - ETA: 17s - loss: 0.1860 - acc: 0.92 - ETA: 16s - loss: 0.1901 - acc: 0.92 - ETA: 15s - loss: 0.1888 - acc: 0.92 - ETA: 14s - loss: 0.1876 - acc: 0.92 - ETA: 13s - loss: 0.1847 - acc: 0.92 - ETA: 12s - loss: 0.1838 - acc: 0.92 - ETA: 11s - loss: 0.1849 - acc: 0.92 - ETA: 10s - loss: 0.1842 - acc: 0.92 - ETA: 9s - loss: 0.1820 - acc: 0.9307 - ETA: 8s - loss: 0.1825 - acc: 0.929 - ETA: 7s - loss: 0.1835 - acc: 0.928 - ETA: 6s - loss: 0.1836 - acc: 0.929 - ETA: 5s - loss: 0.1820 - acc: 0.930 - ETA: 4s - loss: 0.1836 - acc: 0.929 - ETA: 3s - loss: 0.1903 - acc: 0.928 - ETA: 2s - loss: 0.1952 - acc: 0.925 - ETA: 1s - loss: 0.1981 - acc: 0.924 - 71s 1s/step - loss: 0.1974 - acc: 0.9248 - val_loss: 0.5607 - val_acc: 0.6875\n",
      "\n",
      "Epoch 00016: val_loss did not improve from 0.53958\n",
      "Epoch 17/128\n",
      "64/64 [==============================] - ETA: 1:05 - loss: 0.1746 - acc: 0.937 - ETA: 1:04 - loss: 0.1405 - acc: 0.953 - ETA: 1:02 - loss: 0.1551 - acc: 0.937 - ETA: 1:01 - loss: 0.1442 - acc: 0.945 - ETA: 1:00 - loss: 0.1439 - acc: 0.943 - ETA: 59s - loss: 0.1714 - acc: 0.932 - ETA: 58s - loss: 0.1812 - acc: 0.92 - ETA: 57s - loss: 0.1793 - acc: 0.92 - ETA: 56s - loss: 0.1858 - acc: 0.92 - ETA: 55s - loss: 0.1997 - acc: 0.92 - ETA: 54s - loss: 0.1878 - acc: 0.93 - ETA: 53s - loss: 0.1866 - acc: 0.93 - ETA: 52s - loss: 0.1787 - acc: 0.93 - ETA: 51s - loss: 0.1781 - acc: 0.93 - ETA: 50s - loss: 0.1768 - acc: 0.93 - ETA: 49s - loss: 0.1721 - acc: 0.93 - ETA: 46s - loss: 0.1629 - acc: 0.93 - ETA: 45s - loss: 0.1627 - acc: 0.93 - ETA: 44s - loss: 0.1644 - acc: 0.93 - ETA: 43s - loss: 0.1636 - acc: 0.93 - ETA: 43s - loss: 0.1668 - acc: 0.93 - ETA: 42s - loss: 0.1632 - acc: 0.93 - ETA: 41s - loss: 0.1613 - acc: 0.93 - ETA: 40s - loss: 0.1662 - acc: 0.93 - ETA: 39s - loss: 0.1645 - acc: 0.93 - ETA: 38s - loss: 0.1641 - acc: 0.93 - ETA: 37s - loss: 0.1660 - acc: 0.93 - ETA: 36s - loss: 0.1678 - acc: 0.93 - ETA: 35s - loss: 0.1632 - acc: 0.93 - ETA: 34s - loss: 0.1671 - acc: 0.93 - ETA: 33s - loss: 0.1698 - acc: 0.92 - ETA: 32s - loss: 0.1681 - acc: 0.93 - ETA: 31s - loss: 0.1663 - acc: 0.93 - ETA: 30s - loss: 0.1666 - acc: 0.93 - ETA: 29s - loss: 0.1681 - acc: 0.93 - ETA: 28s - loss: 0.1714 - acc: 0.92 - ETA: 27s - loss: 0.1715 - acc: 0.92 - ETA: 26s - loss: 0.1699 - acc: 0.92 - ETA: 25s - loss: 0.1678 - acc: 0.92 - ETA: 24s - loss: 0.1678 - acc: 0.92 - ETA: 23s - loss: 0.1693 - acc: 0.92 - ETA: 22s - loss: 0.1678 - acc: 0.92 - ETA: 21s - loss: 0.1651 - acc: 0.92 - ETA: 20s - loss: 0.1652 - acc: 0.92 - ETA: 19s - loss: 0.1658 - acc: 0.92 - ETA: 18s - loss: 0.1665 - acc: 0.93 - ETA: 17s - loss: 0.1689 - acc: 0.92 - ETA: 16s - loss: 0.1695 - acc: 0.92 - ETA: 15s - loss: 0.1695 - acc: 0.92 - ETA: 14s - loss: 0.1694 - acc: 0.92 - ETA: 13s - loss: 0.1678 - acc: 0.92 - ETA: 12s - loss: 0.1666 - acc: 0.93 - ETA: 11s - loss: 0.1716 - acc: 0.92 - ETA: 10s - loss: 0.1725 - acc: 0.93 - ETA: 9s - loss: 0.1734 - acc: 0.9295 - ETA: 8s - loss: 0.1709 - acc: 0.930 - ETA: 7s - loss: 0.1690 - acc: 0.932 - ETA: 6s - loss: 0.1673 - acc: 0.932 - ETA: 5s - loss: 0.1656 - acc: 0.933 - ETA: 4s - loss: 0.1666 - acc: 0.932 - ETA: 3s - loss: 0.1657 - acc: 0.932 - ETA: 2s - loss: 0.1669 - acc: 0.932 - ETA: 1s - loss: 0.1697 - acc: 0.930 - 71s 1s/step - loss: 0.1687 - acc: 0.9311 - val_loss: 1.3334 - val_acc: 0.5625\n",
      "\n",
      "Epoch 00017: val_loss did not improve from 0.53958\n",
      "Epoch 18/128\n",
      "64/64 [==============================] - ETA: 1:05 - loss: 0.0404 - acc: 1.000 - ETA: 1:04 - loss: 0.0433 - acc: 0.984 - ETA: 1:03 - loss: 0.1144 - acc: 0.947 - ETA: 1:02 - loss: 0.1152 - acc: 0.953 - ETA: 1:01 - loss: 0.1244 - acc: 0.950 - ETA: 59s - loss: 0.1169 - acc: 0.953 - ETA: 58s - loss: 0.1358 - acc: 0.94 - ETA: 57s - loss: 0.1359 - acc: 0.94 - ETA: 56s - loss: 0.1452 - acc: 0.94 - ETA: 55s - loss: 0.1404 - acc: 0.94 - ETA: 54s - loss: 0.1496 - acc: 0.94 - ETA: 53s - loss: 0.1455 - acc: 0.94 - ETA: 52s - loss: 0.1437 - acc: 0.94 - ETA: 51s - loss: 0.1377 - acc: 0.94 - ETA: 50s - loss: 0.1326 - acc: 0.94 - ETA: 49s - loss: 0.1304 - acc: 0.94 - ETA: 48s - loss: 0.1353 - acc: 0.94 - ETA: 47s - loss: 0.1435 - acc: 0.93 - ETA: 46s - loss: 0.1430 - acc: 0.93 - ETA: 45s - loss: 0.1558 - acc: 0.93 - ETA: 44s - loss: 0.1555 - acc: 0.94 - ETA: 43s - loss: 0.1535 - acc: 0.94 - ETA: 42s - loss: 0.1493 - acc: 0.94 - ETA: 41s - loss: 0.1488 - acc: 0.94 - ETA: 40s - loss: 0.1584 - acc: 0.93 - ETA: 39s - loss: 0.1634 - acc: 0.93 - ETA: 38s - loss: 0.1605 - acc: 0.93 - ETA: 37s - loss: 0.1605 - acc: 0.93 - ETA: 36s - loss: 0.1579 - acc: 0.93 - ETA: 35s - loss: 0.1535 - acc: 0.93 - ETA: 34s - loss: 0.1562 - acc: 0.93 - ETA: 33s - loss: 0.1529 - acc: 0.93 - ETA: 32s - loss: 0.1535 - acc: 0.93 - ETA: 31s - loss: 0.1502 - acc: 0.94 - ETA: 30s - loss: 0.1528 - acc: 0.93 - ETA: 29s - loss: 0.1519 - acc: 0.93 - ETA: 27s - loss: 0.1500 - acc: 0.94 - ETA: 26s - loss: 0.1489 - acc: 0.94 - ETA: 25s - loss: 0.1534 - acc: 0.93 - ETA: 24s - loss: 0.1522 - acc: 0.94 - ETA: 23s - loss: 0.1501 - acc: 0.94 - ETA: 22s - loss: 0.1485 - acc: 0.94 - ETA: 21s - loss: 0.1491 - acc: 0.94 - ETA: 20s - loss: 0.1564 - acc: 0.93 - ETA: 19s - loss: 0.1556 - acc: 0.93 - ETA: 18s - loss: 0.1552 - acc: 0.93 - ETA: 17s - loss: 0.1536 - acc: 0.94 - ETA: 16s - loss: 0.1522 - acc: 0.94 - ETA: 15s - loss: 0.1565 - acc: 0.93 - ETA: 14s - loss: 0.1555 - acc: 0.94 - ETA: 13s - loss: 0.1562 - acc: 0.94 - ETA: 12s - loss: 0.1567 - acc: 0.94 - ETA: 11s - loss: 0.1554 - acc: 0.94 - ETA: 10s - loss: 0.1538 - acc: 0.94 - ETA: 9s - loss: 0.1536 - acc: 0.9420 - ETA: 8s - loss: 0.1527 - acc: 0.942 - ETA: 7s - loss: 0.1512 - acc: 0.943 - ETA: 6s - loss: 0.1507 - acc: 0.943 - ETA: 5s - loss: 0.1505 - acc: 0.943 - ETA: 4s - loss: 0.1511 - acc: 0.941 - ETA: 3s - loss: 0.1537 - acc: 0.940 - ETA: 2s - loss: 0.1550 - acc: 0.939 - ETA: 1s - loss: 0.1580 - acc: 0.938 - 72s 1s/step - loss: 0.1589 - acc: 0.9375 - val_loss: 0.5690 - val_acc: 0.6875\n",
      "\n",
      "Epoch 00018: val_loss did not improve from 0.53958\n",
      "Epoch 19/128\n"
     ]
    },
    {
     "name": "stdout",
     "output_type": "stream",
     "text": [
      "64/64 [==============================] - ETA: 1:05 - loss: 0.0654 - acc: 1.000 - ETA: 1:04 - loss: 0.1150 - acc: 0.968 - ETA: 1:02 - loss: 0.1117 - acc: 0.968 - ETA: 1:01 - loss: 0.1264 - acc: 0.960 - ETA: 1:00 - loss: 0.1354 - acc: 0.956 - ETA: 59s - loss: 0.1403 - acc: 0.947 - ETA: 58s - loss: 0.1400 - acc: 0.94 - ETA: 58s - loss: 0.1577 - acc: 0.94 - ETA: 57s - loss: 0.1574 - acc: 0.94 - ETA: 52s - loss: 0.1493 - acc: 0.95 - ETA: 51s - loss: 0.1471 - acc: 0.95 - ETA: 50s - loss: 0.1398 - acc: 0.95 - ETA: 50s - loss: 0.1378 - acc: 0.95 - ETA: 49s - loss: 0.1706 - acc: 0.94 - ETA: 48s - loss: 0.1639 - acc: 0.95 - ETA: 47s - loss: 0.1595 - acc: 0.95 - ETA: 46s - loss: 0.1591 - acc: 0.95 - ETA: 45s - loss: 0.1574 - acc: 0.94 - ETA: 44s - loss: 0.1533 - acc: 0.95 - ETA: 44s - loss: 0.1514 - acc: 0.95 - ETA: 43s - loss: 0.1574 - acc: 0.94 - ETA: 42s - loss: 0.1512 - acc: 0.95 - ETA: 41s - loss: 0.1475 - acc: 0.95 - ETA: 40s - loss: 0.1475 - acc: 0.95 - ETA: 39s - loss: 0.1516 - acc: 0.95 - ETA: 38s - loss: 0.1551 - acc: 0.94 - ETA: 37s - loss: 0.1712 - acc: 0.94 - ETA: 36s - loss: 0.1729 - acc: 0.94 - ETA: 35s - loss: 0.1697 - acc: 0.94 - ETA: 34s - loss: 0.1664 - acc: 0.94 - ETA: 33s - loss: 0.1640 - acc: 0.94 - ETA: 32s - loss: 0.1611 - acc: 0.94 - ETA: 31s - loss: 0.1602 - acc: 0.94 - ETA: 30s - loss: 0.1592 - acc: 0.94 - ETA: 29s - loss: 0.1598 - acc: 0.94 - ETA: 28s - loss: 0.1580 - acc: 0.94 - ETA: 27s - loss: 0.1569 - acc: 0.94 - ETA: 26s - loss: 0.1634 - acc: 0.94 - ETA: 25s - loss: 0.1652 - acc: 0.93 - ETA: 24s - loss: 0.1653 - acc: 0.93 - ETA: 23s - loss: 0.1655 - acc: 0.93 - ETA: 22s - loss: 0.1640 - acc: 0.93 - ETA: 21s - loss: 0.1626 - acc: 0.93 - ETA: 20s - loss: 0.1607 - acc: 0.94 - ETA: 19s - loss: 0.1626 - acc: 0.93 - ETA: 18s - loss: 0.1633 - acc: 0.93 - ETA: 17s - loss: 0.1656 - acc: 0.93 - ETA: 16s - loss: 0.1646 - acc: 0.93 - ETA: 15s - loss: 0.1661 - acc: 0.93 - ETA: 14s - loss: 0.1662 - acc: 0.93 - ETA: 13s - loss: 0.1654 - acc: 0.93 - ETA: 12s - loss: 0.1669 - acc: 0.93 - ETA: 11s - loss: 0.1672 - acc: 0.93 - ETA: 10s - loss: 0.1681 - acc: 0.93 - ETA: 9s - loss: 0.1662 - acc: 0.9358 - ETA: 8s - loss: 0.1652 - acc: 0.936 - ETA: 7s - loss: 0.1644 - acc: 0.936 - ETA: 6s - loss: 0.1646 - acc: 0.935 - ETA: 5s - loss: 0.1635 - acc: 0.936 - ETA: 4s - loss: 0.1651 - acc: 0.935 - ETA: 3s - loss: 0.1643 - acc: 0.936 - ETA: 2s - loss: 0.1642 - acc: 0.936 - ETA: 1s - loss: 0.1624 - acc: 0.937 - 71s 1s/step - loss: 0.1608 - acc: 0.9375 - val_loss: 0.5724 - val_acc: 0.7500\n",
      "\n",
      "Epoch 00019: val_loss did not improve from 0.53958\n",
      "Epoch 00019: early stopping\n"
     ]
    }
   ],
   "source": [
    "from keras import optimizers\n",
    "from keras.callbacks import EarlyStopping\n",
    "from keras.callbacks import ModelCheckpoint\n",
    "\n",
    "model.compile(loss='binary_crossentropy',\n",
    "              optimizer=optimizers.RMSprop(lr=2e-5),\n",
    "              metrics=['acc'])\n",
    "\n",
    "earlystopping = EarlyStopping(monitor='val_loss', \n",
    "                              patience=10, \n",
    "                              verbose=1)\n",
    "\n",
    "checkpoint = ModelCheckpoint(filepath='x_ray_0.h5', \n",
    "                             monitor='val_loss', verbose=1, \n",
    "                             save_best_only=True, \n",
    "                             mode='min')\n",
    "\n",
    "\n",
    "history = model.fit_generator(\n",
    "      train_generator,\n",
    "      steps_per_epoch=64, # steps_per_epoch=num_of_train_samples // batch_size,\n",
    "      epochs=128,\n",
    "      callbacks=[earlystopping,checkpoint],\n",
    "      validation_data=val_generator,\n",
    "      validation_steps=16)"
   ]
  },
  {
   "cell_type": "code",
   "execution_count": 8,
   "metadata": {},
   "outputs": [],
   "source": [
    "from keras.models import load_model\n",
    "model = load_model('x_ray_0.h5')"
   ]
  },
  {
   "cell_type": "code",
   "execution_count": 7,
   "metadata": {},
   "outputs": [
    {
     "name": "stdout",
     "output_type": "stream",
     "text": [
      "             precision    recall  f1-score   support\n",
      "\n",
      "          0       1.00      0.62      0.77         8\n",
      "          1       0.73      1.00      0.84         8\n",
      "\n",
      "avg / total       0.86      0.81      0.81        16\n",
      "\n",
      "[[5 3]\n",
      " [0 8]]\n"
     ]
    }
   ],
   "source": [
    "# val\n",
    "from sklearn import metrics\n",
    "expected = val_generator.classes\n",
    "predicted = model.predict_generator(val_generator)  \n",
    "predicted = (predicted >= 0.5).astype(int)  # predict_generator預測結果為機率值, 需自行轉換\n",
    "print(metrics.classification_report(expected, predicted))\n",
    "print(metrics.confusion_matrix(expected, predicted))"
   ]
  },
  {
   "cell_type": "code",
   "execution_count": 8,
   "metadata": {},
   "outputs": [
    {
     "name": "stdout",
     "output_type": "stream",
     "text": [
      "             precision    recall  f1-score   support\n",
      "\n",
      "          0       0.87      0.85      0.86       234\n",
      "          1       0.91      0.92      0.92       390\n",
      "\n",
      "avg / total       0.89      0.89      0.89       624\n",
      "\n",
      "[[198  36]\n",
      " [ 30 360]]\n"
     ]
    }
   ],
   "source": [
    "# test\n",
    "from sklearn import metrics\n",
    "expected = test_generator.classes\n",
    "predicted = model.predict_generator(test_generator)  \n",
    "predicted = (predicted >= 0.5).astype(int)  # predict_generator預測結果為機率值, 需自行轉換\n",
    "print(metrics.classification_report(expected, predicted))\n",
    "print(metrics.confusion_matrix(expected, predicted))"
   ]
  }
 ],
 "metadata": {
  "kernelspec": {
   "display_name": "Python 3",
   "language": "python",
   "name": "python3"
  },
  "language_info": {
   "codemirror_mode": {
    "name": "ipython",
    "version": 3
   },
   "file_extension": ".py",
   "mimetype": "text/x-python",
   "name": "python",
   "nbconvert_exporter": "python",
   "pygments_lexer": "ipython3",
   "version": "3.6.9"
  }
 },
 "nbformat": 4,
 "nbformat_minor": 2
}
